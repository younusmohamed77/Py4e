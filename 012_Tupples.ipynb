{
 "cells": [
  {
   "cell_type": "markdown",
   "id": "cec63839",
   "metadata": {},
   "source": [
    "#### 10.2 Write a program to read through the mbox-short.txt and figure out the distribution by hour of the day for each of the messages. You can pull the hour out from the 'From ' line by finding the time and then splitting the string a second time using a colon.\n",
    "##### From stephen.marquard@uct.ac.za Sat Jan  5 09:14:16 2008\n",
    "##### Once you have accumulated the counts for each hour, print out the counts, sorted by hour as shown below."
   ]
  },
  {
   "cell_type": "code",
   "execution_count": 4,
   "id": "1f1a22c0",
   "metadata": {},
   "outputs": [
    {
     "name": "stdout",
     "output_type": "stream",
     "text": [
      "Enter file name: 008_mbox-short.txt\n",
      "04 3\n",
      "06 1\n",
      "07 1\n",
      "09 2\n",
      "10 3\n",
      "11 6\n",
      "14 1\n",
      "15 2\n",
      "16 4\n",
      "17 2\n",
      "18 1\n",
      "19 1\n"
     ]
    }
   ],
   "source": [
    "name = input(\"Enter file name: \")    # Reading the file name from user\n",
    "\n",
    "if len(name) < 1:    # If no name is entered taking a default file name\n",
    "    fname = \"mbox-short.txt\"\n",
    "\n",
    "handle = open(name)    # Reading the file in a handle\n",
    "lines_list = handle.read().splitlines()    # Reading the file line by line and storing it in a list\n",
    "hours_dict = {}\n",
    "\n",
    "for line in lines_list:    # Iterating over each word of the line\n",
    "    \n",
    "    if line.startswith('From '):    # Check the condition for received mail\n",
    "        time = line.split()[5][0:2]    # Getting the time in hours from the line\n",
    "        \n",
    "        if time in hours_dict:    # If the hour va;ue is already in the dict increasing the value by 1\n",
    "            hours_dict[time] += 1\n",
    "            \n",
    "        else:\n",
    "            hours_dict[time] = 1    # If not creating a key value pair with count as 1\n",
    "            \n",
    "sorted_dict = dict(sorted(hours_dict.items()))    # Sorting the items of the dictionary\n",
    "\n",
    "for time in sorted_dict:    # Looping over the dictionary to print the desired output\n",
    "    print(time, sorted_dict[time])\n",
    "    "
   ]
  },
  {
   "cell_type": "code",
   "execution_count": null,
   "id": "dc5c22a0",
   "metadata": {},
   "outputs": [],
   "source": []
  }
 ],
 "metadata": {
  "kernelspec": {
   "display_name": "Python 3 (ipykernel)",
   "language": "python",
   "name": "python3"
  },
  "language_info": {
   "codemirror_mode": {
    "name": "ipython",
    "version": 3
   },
   "file_extension": ".py",
   "mimetype": "text/x-python",
   "name": "python",
   "nbconvert_exporter": "python",
   "pygments_lexer": "ipython3",
   "version": "3.8.18"
  }
 },
 "nbformat": 4,
 "nbformat_minor": 5
}
