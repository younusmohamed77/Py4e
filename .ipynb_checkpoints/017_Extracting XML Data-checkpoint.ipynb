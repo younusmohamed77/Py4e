{
 "cells": [
  {
   "cell_type": "markdown",
   "id": "d7eb3103",
   "metadata": {},
   "source": [
    "#### Extracting Data from XML\n",
    "\n",
    "In this assignment you will write a Python program somewhat similar to http://www.py4e.com/code3/geoxml.py. The program will prompt for a URL, read the XML data from that URL using urllib and then parse and extract the comment counts from the XML data, compute the sum of the numbers in the file.\n",
    "\n",
    "We provide two files for this assignment. One is a sample file where we give you the sum for your testing and the other is the actual data you need to process for the assignment.\n",
    "\n",
    "- Sample data: http://py4e-data.dr-chuck.net/comments_42.xml (Sum=2553)\n",
    "- Actual data: http://py4e-data.dr-chuck.net/comments_1936336.xml (Sum ends with 10)"
   ]
  },
  {
   "cell_type": "code",
   "execution_count": 1,
   "id": "27972b3c",
   "metadata": {},
   "outputs": [],
   "source": [
    "# Importing the necessary modules\n",
    "\n",
    "import urllib.request, urllib.parse, urllib.error\n",
    "from bs4 import BeautifulSoup\n",
    "import ssl\n",
    "import xml.etree.ElementTree as ET"
   ]
  },
  {
   "cell_type": "code",
   "execution_count": 2,
   "id": "89c248db",
   "metadata": {},
   "outputs": [],
   "source": [
    "# Ignore SSL certificate errors\n",
    "\n",
    "ctx = ssl.create_default_context()\n",
    "ctx.check_hostname = False\n",
    "ctx.verify_mode = ssl.CERT_NONE"
   ]
  },
  {
   "cell_type": "code",
   "execution_count": 4,
   "id": "af5246a3",
   "metadata": {},
   "outputs": [
    {
     "name": "stdout",
     "output_type": "stream",
     "text": [
      "Enter the url : http://py4e-data.dr-chuck.net/comments_42.xml\n"
     ]
    }
   ],
   "source": [
    "url = input(\"Enter the url : \")    # Reading the URL from the user\n",
    "xml = urllib.request.urlopen(url, context = ctx).read()    # Reading the XML file in that URL"
   ]
  },
  {
   "cell_type": "code",
   "execution_count": 5,
   "id": "b8aaa4fe",
   "metadata": {},
   "outputs": [
    {
     "data": {
      "text/plain": [
       "b'<?xml version=\"1.0\" encoding=\"UTF-8\"?>\\n<commentinfo>\\n  <note>This file contains the sample data for testing</note>\\n\\n  <comments>\\n    <comment>\\n       <name>Romina</name>\\n       <count>97</count>\\n    </comment>\\n    <comment>\\n       <name>Laurie</name>\\n       <count>97</count>\\n    </comment>\\n    <comment>\\n       <name>Bayli</name>\\n       <count>90</count>\\n    </comment>\\n    <comment>\\n       <name>Siyona</name>\\n       <count>90</count>\\n    </comment>\\n    <comment>\\n       <name>Taisha</name>\\n       <count>88</count>\\n    </comment>\\n    <comment>\\n       <name>Alanda</name>\\n       <count>87</count>\\n    </comment>\\n    <comment>\\n       <name>Ameelia</name>\\n       <count>87</count>\\n    </comment>\\n    <comment>\\n       <name>Prasheeta</name>\\n       <count>80</count>\\n    </comment>\\n    <comment>\\n       <name>Asif</name>\\n       <count>79</count>\\n    </comment>\\n    <comment>\\n       <name>Risa</name>\\n       <count>79</count>\\n    </comment>\\n    <comment>\\n       <name>Zi</name>\\n       <count>78</count>\\n    </comment>\\n    <comment>\\n       <name>Danyil</name>\\n       <count>76</count>\\n    </comment>\\n    <comment>\\n       <name>Ediomi</name>\\n       <count>76</count>\\n    </comment>\\n    <comment>\\n       <name>Barry</name>\\n       <count>72</count>\\n    </comment>\\n    <comment>\\n       <name>Lance</name>\\n       <count>72</count>\\n    </comment>\\n    <comment>\\n       <name>Hattie</name>\\n       <count>66</count>\\n    </comment>\\n    <comment>\\n       <name>Mathu</name>\\n       <count>66</count>\\n    </comment>\\n    <comment>\\n       <name>Bowie</name>\\n       <count>65</count>\\n    </comment>\\n    <comment>\\n       <name>Samara</name>\\n       <count>65</count>\\n    </comment>\\n    <comment>\\n       <name>Uchenna</name>\\n       <count>64</count>\\n    </comment>\\n    <comment>\\n       <name>Shauni</name>\\n       <count>61</count>\\n    </comment>\\n    <comment>\\n       <name>Georgia</name>\\n       <count>61</count>\\n    </comment>\\n    <comment>\\n       <name>Rivan</name>\\n       <count>59</count>\\n    </comment>\\n    <comment>\\n       <name>Kenan</name>\\n       <count>58</count>\\n    </comment>\\n    <comment>\\n       <name>Hassan</name>\\n       <count>57</count>\\n    </comment>\\n    <comment>\\n       <name>Isma</name>\\n       <count>57</count>\\n    </comment>\\n    <comment>\\n       <name>Samanthalee</name>\\n       <count>54</count>\\n    </comment>\\n    <comment>\\n       <name>Alexa</name>\\n       <count>51</count>\\n    </comment>\\n    <comment>\\n       <name>Caine</name>\\n       <count>49</count>\\n    </comment>\\n    <comment>\\n       <name>Grady</name>\\n       <count>47</count>\\n    </comment>\\n    <comment>\\n       <name>Anne</name>\\n       <count>40</count>\\n    </comment>\\n    <comment>\\n       <name>Rihan</name>\\n       <count>38</count>\\n    </comment>\\n    <comment>\\n       <name>Alexei</name>\\n       <count>37</count>\\n    </comment>\\n    <comment>\\n       <name>Indie</name>\\n       <count>36</count>\\n    </comment>\\n    <comment>\\n       <name>Rhuairidh</name>\\n       <count>36</count>\\n    </comment>\\n    <comment>\\n       <name>Annoushka</name>\\n       <count>32</count>\\n    </comment>\\n    <comment>\\n       <name>Kenzi</name>\\n       <count>25</count>\\n    </comment>\\n    <comment>\\n       <name>Shahd</name>\\n       <count>24</count>\\n    </comment>\\n    <comment>\\n       <name>Irvine</name>\\n       <count>22</count>\\n    </comment>\\n    <comment>\\n       <name>Carys</name>\\n       <count>21</count>\\n    </comment>\\n    <comment>\\n       <name>Skye</name>\\n       <count>19</count>\\n    </comment>\\n    <comment>\\n       <name>Atiya</name>\\n       <count>18</count>\\n    </comment>\\n    <comment>\\n       <name>Rohan</name>\\n       <count>18</count>\\n    </comment>\\n    <comment>\\n       <name>Nuala</name>\\n       <count>14</count>\\n    </comment>\\n    <comment>\\n       <name>Maram</name>\\n       <count>12</count>\\n    </comment>\\n    <comment>\\n       <name>Carlo</name>\\n       <count>12</count>\\n    </comment>\\n    <comment>\\n       <name>Japleen</name>\\n       <count>9</count>\\n    </comment>\\n    <comment>\\n       <name>Breeanna</name>\\n       <count>7</count>\\n    </comment>\\n    <comment>\\n       <name>Zaaine</name>\\n       <count>3</count>\\n    </comment>\\n    <comment>\\n       <name>Inika</name>\\n       <count>2</count>\\n    </comment>\\n  </comments>\\n</commentinfo>\\n'"
      ]
     },
     "execution_count": 5,
     "metadata": {},
     "output_type": "execute_result"
    }
   ],
   "source": [
    "xml"
   ]
  },
  {
   "cell_type": "code",
   "execution_count": 6,
   "id": "d9328f20",
   "metadata": {},
   "outputs": [
    {
     "data": {
      "text/plain": [
       "<Element 'commentinfo' at 0x000001E8C0AFF060>"
      ]
     },
     "execution_count": 6,
     "metadata": {},
     "output_type": "execute_result"
    }
   ],
   "source": [
    "stuff = ET.fromstring(xml)    # Getting the 'TREE STRUCTURE' of the XML file\n",
    "stuff"
   ]
  },
  {
   "cell_type": "code",
   "execution_count": 20,
   "id": "3595815d",
   "metadata": {},
   "outputs": [
    {
     "data": {
      "text/plain": [
       "[<Element 'count' at 0x000001E8C0AFE6B0>,\n",
       " <Element 'count' at 0x000001E8C0AFEC00>,\n",
       " <Element 'count' at 0x000001E8C0AFE2F0>,\n",
       " <Element 'count' at 0x000001E8C0AFF5B0>,\n",
       " <Element 'count' at 0x000001E8C0AFF6F0>,\n",
       " <Element 'count' at 0x000001E8C0AFF6A0>,\n",
       " <Element 'count' at 0x000001E8C0AFF7E0>,\n",
       " <Element 'count' at 0x000001E8C0AFF9C0>,\n",
       " <Element 'count' at 0x000001E8C0AFFA60>,\n",
       " <Element 'count' at 0x000001E8C0AFFBA0>,\n",
       " <Element 'count' at 0x000001E8C0AFFD30>,\n",
       " <Element 'count' at 0x000001E8C0AFFE20>,\n",
       " <Element 'count' at 0x000001E8C0AFFFB0>,\n",
       " <Element 'count' at 0x000001E8C0AEC040>,\n",
       " <Element 'count' at 0x000001E8C0AEC1D0>,\n",
       " <Element 'count' at 0x000001E8C0AEC360>,\n",
       " <Element 'count' at 0x000001E8C0AEC400>,\n",
       " <Element 'count' at 0x000001E8C0AEC310>,\n",
       " <Element 'count' at 0x000001E8C0AEC590>,\n",
       " <Element 'count' at 0x000001E8C0AEC630>,\n",
       " <Element 'count' at 0x000001E8C0AEC720>,\n",
       " <Element 'count' at 0x000001E8C0AEC810>,\n",
       " <Element 'count' at 0x000001E8C0AEC9A0>,\n",
       " <Element 'count' at 0x000001E8C0AECA90>,\n",
       " <Element 'count' at 0x000001E8C0AECAE0>,\n",
       " <Element 'count' at 0x000001E8C0AECC20>,\n",
       " <Element 'count' at 0x000001E8C0AECEA0>,\n",
       " <Element 'count' at 0x000001E8C0AECEF0>,\n",
       " <Element 'count' at 0x000001E8C0AED080>,\n",
       " <Element 'count' at 0x000001E8C0AED170>,\n",
       " <Element 'count' at 0x000001E8C0AED1C0>,\n",
       " <Element 'count' at 0x000001E8C0AED350>,\n",
       " <Element 'count' at 0x000001E8C0AED440>,\n",
       " <Element 'count' at 0x000001E8C0AED4E0>,\n",
       " <Element 'count' at 0x000001E8C0AED620>,\n",
       " <Element 'count' at 0x000001E8C0AED670>,\n",
       " <Element 'count' at 0x000001E8C0AED760>,\n",
       " <Element 'count' at 0x000001E8C0AED8F0>,\n",
       " <Element 'count' at 0x000001E8C0AED990>,\n",
       " <Element 'count' at 0x000001E8C0AEDA30>,\n",
       " <Element 'count' at 0x000001E8C0AEDBC0>,\n",
       " <Element 'count' at 0x000001E8C0AEDD00>,\n",
       " <Element 'count' at 0x000001E8C0AEDDA0>,\n",
       " <Element 'count' at 0x000001E8C0AEDEE0>,\n",
       " <Element 'count' at 0x000001E8C0AEDE90>,\n",
       " <Element 'count' at 0x000001E8C0AEE0C0>,\n",
       " <Element 'count' at 0x000001E8C0AEE200>,\n",
       " <Element 'count' at 0x000001E8C0AEE1B0>,\n",
       " <Element 'count' at 0x000001E8C0AEE2A0>,\n",
       " <Element 'count' at 0x000001E8C0AEE430>]"
      ]
     },
     "execution_count": 20,
     "metadata": {},
     "output_type": "execute_result"
    }
   ],
   "source": [
    "counts = stuff.findall('.//count')    # Making a list of all count elements from the tree\n",
    "counts"
   ]
  },
  {
   "cell_type": "code",
   "execution_count": 30,
   "id": "d4bf6437",
   "metadata": {},
   "outputs": [
    {
     "name": "stdout",
     "output_type": "stream",
     "text": [
      "Sum of counts : 2553\n"
     ]
    }
   ],
   "source": [
    "counts_sum = 0\n",
    "\n",
    "for count in counts:\n",
    "    counts_sum += int(count.text)    # count.text gives the element 'count' at 0x0XXXXX\n",
    "    \n",
    "print(\"Sum of counts :\",counts_sum)"
   ]
  },
  {
   "cell_type": "markdown",
   "id": "5cd6e66c",
   "metadata": {},
   "source": [
    "#### Submission Code"
   ]
  },
  {
   "cell_type": "code",
   "execution_count": 31,
   "id": "cc83075f",
   "metadata": {},
   "outputs": [
    {
     "name": "stdout",
     "output_type": "stream",
     "text": [
      "Enter the url : http://py4e-data.dr-chuck.net/comments_1936336.xml\n",
      "Sum of counts : 2710\n"
     ]
    }
   ],
   "source": [
    "# Importing the necessary modules\n",
    "\n",
    "import urllib.request, urllib.parse, urllib.error\n",
    "from bs4 import BeautifulSoup\n",
    "import ssl\n",
    "import xml.etree.ElementTree as ET\n",
    "\n",
    "# Ignore SSL certificate errors\n",
    "\n",
    "ctx = ssl.create_default_context()\n",
    "ctx.check_hostname = False\n",
    "ctx.verify_mode = ssl.CERT_NONE\n",
    "\n",
    "url = input(\"Enter the url : \")    # Reading the URL from the user\n",
    "xml = urllib.request.urlopen(url, context = ctx).read()    # Reading the XML file in that URL\n",
    "\n",
    "stuff = ET.fromstring(xml)    # Getting the 'TREE STRUCTURE' of the XML file\n",
    "\n",
    "counts = stuff.findall('.//count')    # Making a list of all count elements from the tree\n",
    "\n",
    "counts_sum = 0\n",
    "\n",
    "for count in counts:\n",
    "    counts_sum += int(count.text)    # count.text gives the element 'count' at 0x0XXXXX\n",
    "    \n",
    "print(\"Sum of counts :\",counts_sum)"
   ]
  },
  {
   "cell_type": "code",
   "execution_count": null,
   "id": "9de87d6a",
   "metadata": {},
   "outputs": [],
   "source": []
  }
 ],
 "metadata": {
  "kernelspec": {
   "display_name": "Python 3 (ipykernel)",
   "language": "python",
   "name": "python3"
  },
  "language_info": {
   "codemirror_mode": {
    "name": "ipython",
    "version": 3
   },
   "file_extension": ".py",
   "mimetype": "text/x-python",
   "name": "python",
   "nbconvert_exporter": "python",
   "pygments_lexer": "ipython3",
   "version": "3.11.5"
  }
 },
 "nbformat": 4,
 "nbformat_minor": 5
}
