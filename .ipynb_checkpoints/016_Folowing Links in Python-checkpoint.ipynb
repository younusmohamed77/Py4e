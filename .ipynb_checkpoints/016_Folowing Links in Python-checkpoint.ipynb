{
 "cells": [
  {
   "cell_type": "markdown",
   "id": "65953dd7",
   "metadata": {},
   "source": [
    "#### Following Links in Python\n",
    "\n",
    "In this assignment you will write a Python program that expands on http://www.py4e.com/code3/urllinks.py. The program will use urllib to read the HTML from the data files below, extract the href= vaues from the anchor tags, scan for a tag that is in a particular position relative to the first name in the list, follow that link and repeat the process a number of times and report the last name you find.\n",
    "\n",
    "We provide two files for this assignment. One is a sample file where we give you the name for your testing and the other is the actual data you need to process for the assignment\n",
    "\n",
    "- Sample problem: Start at http://py4e-data.dr-chuck.net/known_by_Fikret.html\n",
    "    - Find the link at position 3 (the first name is 1). Follow that link. Repeat this process 4 times. The answer is the last name that you retrieve.\n",
    "    - Sequence of names: Fikret Montgomery Mhairade Butchi Anayah\n",
    "    - Last name in sequence: Anayah\n",
    "- Actual problem: Start at: http://py4e-data.dr-chuck.net/known_by_Stephany.html\n",
    "    - Find the link at position 18 (the first name is 1). Follow that link. Repeat this process 7 times. The answer is the last name that you retrieve.\n",
    "    - Hint: The first character of the name of the last page that you will load is: T"
   ]
  },
  {
   "cell_type": "code",
   "execution_count": 1,
   "id": "9c3255eb",
   "metadata": {},
   "outputs": [],
   "source": [
    "# Importing the necessary file\n",
    "\n",
    "import urllib.request, urllib.parse, urllib.error\n",
    "from bs4 import BeautifulSoup\n",
    "import ssl"
   ]
  },
  {
   "cell_type": "code",
   "execution_count": 2,
   "id": "49632df2",
   "metadata": {},
   "outputs": [],
   "source": [
    "# Ignore SSL certificate errors\n",
    "\n",
    "ctx = ssl.create_default_context()\n",
    "ctx.check_hostname = False\n",
    "ctx.verify_mode = ssl.CERT_NONE"
   ]
  },
  {
   "cell_type": "code",
   "execution_count": 8,
   "id": "2974fea1",
   "metadata": {},
   "outputs": [
    {
     "name": "stdout",
     "output_type": "stream",
     "text": [
      "Enter an URL : http://py4e-data.dr-chuck.net/known_by_Fikret.html\n"
     ]
    }
   ],
   "source": [
    "url = input(\"Enter an URL : \")    # # Getting the url from the user\n",
    "html = urllib.request.urlopen(url, context = ctx).read()    # Opening(connecting) to the html file\n",
    "soup = BeautifulSoup(html, \"html.parser\")    # Parsing the data to a python readable format"
   ]
  },
  {
   "cell_type": "code",
   "execution_count": 9,
   "id": "1ad94411",
   "metadata": {},
   "outputs": [
    {
     "name": "stdout",
     "output_type": "stream",
     "text": [
      "Enter the number of times to repeat the process :4\n",
      "Enter the position of the link : 3\n"
     ]
    }
   ],
   "source": [
    "process_counter = int(input('Enter the number of times to repeat the process :'))\n",
    "link_pos = int(input('Enter the position of the link : '))\n",
    "# print(type(process_counter), type(link_pos))"
   ]
  },
  {
   "cell_type": "code",
   "execution_count": 10,
   "id": "5b8923a5",
   "metadata": {},
   "outputs": [
    {
     "name": "stdout",
     "output_type": "stream",
     "text": [
      "Retreiving : http://py4e-data.dr-chuck.net/known_by_Fikret.html\n",
      "Montgomery\n",
      "Retreiving : http://py4e-data.dr-chuck.net/known_by_Montgomery.html\n",
      "Montgomery\n",
      "Retreiving : http://py4e-data.dr-chuck.net/known_by_Mhairade.html\n",
      "Mhairade\n",
      "Retreiving : http://py4e-data.dr-chuck.net/known_by_Butchi.html\n",
      "Butchi\n",
      "Retreiving : http://py4e-data.dr-chuck.net/known_by_Anayah.html\n",
      "Anayah\n"
     ]
    }
   ],
   "source": [
    "tags = soup('a')     # Saving all the anchor tags from the file as a list\n",
    "print(\"Retreiving :\", url)\n",
    "print(tags[2].contents[0])\n",
    "\n",
    "while process_counter:\n",
    "    temp_url = tags[link_pos - 1].get('href', None)\n",
    "    print(\"Retreiving :\", temp_url)\n",
    "    temp_html = urllib.request.urlopen(temp_url, context = ctx).read()    # Opening(connecting) to the html file\n",
    "    temp_soup = BeautifulSoup(temp_html, \"html.parser\")    # Parsing the data to a python readable format\n",
    "    print(tags[2].contents[0])\n",
    "    tags = temp_soup('a')\n",
    "#     for tag in tags:\n",
    "#         print(tag.contents)\n",
    "        \n",
    "#     print(\"*******\"*7)\n",
    "    \n",
    "    process_counter -= 1"
   ]
  },
  {
   "cell_type": "markdown",
   "id": "81236c1a",
   "metadata": {},
   "source": [
    "#### Submission Code"
   ]
  },
  {
   "cell_type": "code",
   "execution_count": 12,
   "id": "c6b787e5",
   "metadata": {},
   "outputs": [
    {
     "name": "stdout",
     "output_type": "stream",
     "text": [
      "Enter an URL : http://py4e-data.dr-chuck.net/known_by_Stephany.html\n",
      "Enter the number of times to repeat the process :7\n",
      "Enter the position of the link : 18\n",
      "Retreiving : http://py4e-data.dr-chuck.net/known_by_Stephany.html\n",
      "Skye\n",
      "Retreiving : http://py4e-data.dr-chuck.net/known_by_Skye.html\n",
      "Skye\n",
      "Retreiving : http://py4e-data.dr-chuck.net/known_by_Kandice.html\n",
      "Kandice\n",
      "Retreiving : http://py4e-data.dr-chuck.net/known_by_Clement.html\n",
      "Clement\n",
      "Retreiving : http://py4e-data.dr-chuck.net/known_by_Loukas.html\n",
      "Loukas\n",
      "Retreiving : http://py4e-data.dr-chuck.net/known_by_Lianne.html\n",
      "Lianne\n",
      "Retreiving : http://py4e-data.dr-chuck.net/known_by_Kailyn.html\n",
      "Kailyn\n",
      "Retreiving : http://py4e-data.dr-chuck.net/known_by_Tehya.html\n",
      "Tehya\n"
     ]
    }
   ],
   "source": [
    "# Importing the necessary file\n",
    "\n",
    "import urllib.request, urllib.parse, urllib.error\n",
    "from bs4 import BeautifulSoup\n",
    "import ssl\n",
    "\n",
    "# Ignore SSL certificate errors\n",
    "\n",
    "ctx = ssl.create_default_context()\n",
    "ctx.check_hostname = False\n",
    "ctx.verify_mode = ssl.CERT_NONE\n",
    "\n",
    "url = input(\"Enter an URL : \")    # # Getting the url from the user\n",
    "html = urllib.request.urlopen(url, context = ctx).read()    # Opening(connecting) to the html file\n",
    "soup = BeautifulSoup(html, \"html.parser\")    # Parsing the data to a python readable format\n",
    "\n",
    "process_counter = int(input('Enter the number of times to repeat the process :'))\n",
    "link_pos = int(input('Enter the position of the link : '))\n",
    "\n",
    "tags = soup('a')     # Saving all the anchor tags from the file as a list\n",
    "print(\"Retreiving :\", url)\n",
    "print(tags[link_pos - 1].contents[0])\n",
    "\n",
    "while process_counter:\n",
    "    temp_url = tags[link_pos - 1].get('href', None)\n",
    "    print(\"Retreiving :\", temp_url)\n",
    "    temp_html = urllib.request.urlopen(temp_url, context = ctx).read()    # Opening(connecting) to the html file\n",
    "    temp_soup = BeautifulSoup(temp_html, \"html.parser\")    # Parsing the data to a python readable format\n",
    "    print(tags[link_pos - 1].contents[0])\n",
    "    tags = temp_soup('a')\n",
    "    \n",
    "    process_counter -= 1"
   ]
  },
  {
   "cell_type": "code",
   "execution_count": null,
   "id": "0190374f",
   "metadata": {},
   "outputs": [],
   "source": []
  }
 ],
 "metadata": {
  "kernelspec": {
   "display_name": "Python 3 (ipykernel)",
   "language": "python",
   "name": "python3"
  },
  "language_info": {
   "codemirror_mode": {
    "name": "ipython",
    "version": 3
   },
   "file_extension": ".py",
   "mimetype": "text/x-python",
   "name": "python",
   "nbconvert_exporter": "python",
   "pygments_lexer": "ipython3",
   "version": "3.11.5"
  }
 },
 "nbformat": 4,
 "nbformat_minor": 5
}
