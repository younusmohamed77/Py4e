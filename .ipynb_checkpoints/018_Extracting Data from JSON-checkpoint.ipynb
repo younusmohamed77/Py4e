{
 "cells": [
  {
   "cell_type": "markdown",
   "id": "99d16321",
   "metadata": {},
   "source": [
    "#### Extracting Data from JSON\n",
    "\n",
    "In this assignment you will write a Python program somewhat similar to http://www.py4e.com/code3/json2.py. The program will prompt for a URL, read the JSON data from that URL using urllib and then parse and extract the comment counts from the JSON data, compute the sum of the numbers in the file and enter the sum below:\n",
    "We provide two files for this assignment. One is a sample file where we give you the sum for your testing and the other is the actual data you need to process for the assignment.\n",
    "\n",
    "- Sample data: http://py4e-data.dr-chuck.net/comments_42.json (Sum=2553)\n",
    "- Actual data: http://py4e-data.dr-chuck.net/comments_1936337.json (Sum ends with 32)"
   ]
  },
  {
   "cell_type": "code",
   "execution_count": 10,
   "id": "93ec4736",
   "metadata": {},
   "outputs": [],
   "source": [
    "# Importing the necesarry files and methods\n",
    "\n",
    "import urllib.request, urllib.parse, urllib.error\n",
    "from bs4 import BeautifulSoup\n",
    "import ssl\n",
    "import json"
   ]
  },
  {
   "cell_type": "code",
   "execution_count": 11,
   "id": "40181994",
   "metadata": {},
   "outputs": [],
   "source": [
    "# Ignoring SSL certificate errors\n",
    "\n",
    "ctx = ssl.create_default_context()\n",
    "ctx.check_hostname = False\n",
    "ctx.verify_mode = ssl.CERT_NONE"
   ]
  },
  {
   "cell_type": "code",
   "execution_count": 12,
   "id": "a1614157",
   "metadata": {},
   "outputs": [
    {
     "name": "stdout",
     "output_type": "stream",
     "text": [
      "Enter the url :http://py4e-data.dr-chuck.net/comments_42.json\n",
      "<module 'json' from 'C:\\\\Users\\\\younu\\\\anaconda3\\\\Lib\\\\json\\\\__init__.py'>\n"
     ]
    }
   ],
   "source": [
    "url = input(\"Enter the url :\")    # Getting the url from user\n",
    "json_data = urllib.request.urlopen(url, context = ctx).read().decode()    # Reading the json file from url and decoding it\n",
    "print(json)"
   ]
  },
  {
   "cell_type": "code",
   "execution_count": 13,
   "id": "6d817169",
   "metadata": {},
   "outputs": [
    {
     "name": "stdout",
     "output_type": "stream",
     "text": [
      "{'note': 'This file contains the sample data for testing', 'comments': [{'name': 'Romina', 'count': 97}, {'name': 'Laurie', 'count': 97}, {'name': 'Bayli', 'count': 90}, {'name': 'Siyona', 'count': 90}, {'name': 'Taisha', 'count': 88}, {'name': 'Alanda', 'count': 87}, {'name': 'Ameelia', 'count': 87}, {'name': 'Prasheeta', 'count': 80}, {'name': 'Asif', 'count': 79}, {'name': 'Risa', 'count': 79}, {'name': 'Zi', 'count': 78}, {'name': 'Danyil', 'count': 76}, {'name': 'Ediomi', 'count': 76}, {'name': 'Barry', 'count': 72}, {'name': 'Lance', 'count': 72}, {'name': 'Hattie', 'count': 66}, {'name': 'Mathu', 'count': 66}, {'name': 'Bowie', 'count': 65}, {'name': 'Samara', 'count': 65}, {'name': 'Uchenna', 'count': 64}, {'name': 'Shauni', 'count': 61}, {'name': 'Georgia', 'count': 61}, {'name': 'Rivan', 'count': 59}, {'name': 'Kenan', 'count': 58}, {'name': 'Hassan', 'count': 57}, {'name': 'Isma', 'count': 57}, {'name': 'Samanthalee', 'count': 54}, {'name': 'Alexa', 'count': 51}, {'name': 'Caine', 'count': 49}, {'name': 'Grady', 'count': 47}, {'name': 'Anne', 'count': 40}, {'name': 'Rihan', 'count': 38}, {'name': 'Alexei', 'count': 37}, {'name': 'Indie', 'count': 36}, {'name': 'Rhuairidh', 'count': 36}, {'name': 'Annoushka', 'count': 32}, {'name': 'Kenzi', 'count': 25}, {'name': 'Shahd', 'count': 24}, {'name': 'Irvine', 'count': 22}, {'name': 'Carys', 'count': 21}, {'name': 'Skye', 'count': 19}, {'name': 'Atiya', 'count': 18}, {'name': 'Rohan', 'count': 18}, {'name': 'Nuala', 'count': 14}, {'name': 'Maram', 'count': 12}, {'name': 'Carlo', 'count': 12}, {'name': 'Japleen', 'count': 9}, {'name': 'Breeanna', 'count': 7}, {'name': 'Zaaine', 'count': 3}, {'name': 'Inika', 'count': 2}]}\n"
     ]
    }
   ],
   "source": [
    "js = json.loads(json_data)    # Loading the element of json into a dictionary of strings\n",
    "print(js)"
   ]
  },
  {
   "cell_type": "code",
   "execution_count": 16,
   "id": "9b3c439b",
   "metadata": {},
   "outputs": [
    {
     "name": "stdout",
     "output_type": "stream",
     "text": [
      "97\n",
      "97\n",
      "90\n",
      "90\n",
      "88\n",
      "87\n",
      "87\n",
      "80\n",
      "79\n",
      "79\n",
      "78\n",
      "76\n",
      "76\n",
      "72\n",
      "72\n",
      "66\n",
      "66\n",
      "65\n",
      "65\n",
      "64\n",
      "61\n",
      "61\n",
      "59\n",
      "58\n",
      "57\n",
      "57\n",
      "54\n",
      "51\n",
      "49\n",
      "47\n",
      "40\n",
      "38\n",
      "37\n",
      "36\n",
      "36\n",
      "32\n",
      "25\n",
      "24\n",
      "22\n",
      "21\n",
      "19\n",
      "18\n",
      "18\n",
      "14\n",
      "12\n",
      "12\n",
      "9\n",
      "7\n",
      "3\n",
      "2\n"
     ]
    }
   ],
   "source": [
    "for i in js['comments']:\n",
    "    print(i['count'])"
   ]
  },
  {
   "cell_type": "code",
   "execution_count": 17,
   "id": "82275dcc",
   "metadata": {},
   "outputs": [
    {
     "name": "stdout",
     "output_type": "stream",
     "text": [
      "The sum of all counts is : 2553\n"
     ]
    }
   ],
   "source": [
    "count_sum = 0    # Variable to hold the sum\n",
    "\n",
    "for comment in js['comments']:    # Considering comments as a key in js dict, iteration over the value of comments which is a list\n",
    "    count_sum += comment['count']\n",
    "    \n",
    "print(\"The sum of all counts is :\",count_sum)"
   ]
  },
  {
   "cell_type": "markdown",
   "id": "741b0ba7",
   "metadata": {},
   "source": [
    "#### Submission code"
   ]
  },
  {
   "cell_type": "code",
   "execution_count": 18,
   "id": "990611fc",
   "metadata": {},
   "outputs": [
    {
     "name": "stdout",
     "output_type": "stream",
     "text": [
      "Enter the url :http://py4e-data.dr-chuck.net/comments_1936337.json\n",
      "The sum of all counts is : 2732\n"
     ]
    }
   ],
   "source": [
    "# Importing the necesarry files and methods\n",
    "\n",
    "import urllib.request, urllib.parse, urllib.error\n",
    "import ssl\n",
    "import json\n",
    "\n",
    "# Ignoring SSL certificate errors\n",
    "\n",
    "ctx = ssl.create_default_context()\n",
    "ctx.check_hostname = False\n",
    "ctx.verify_mode = ssl.CERT_NONE\n",
    "\n",
    "url = input(\"Enter the url :\")    # Getting the url from user\n",
    "json_data = urllib.request.urlopen(url, context = ctx).read().decode()    # Reading the json file from url and decoding it\n",
    "js = json.loads(json_data)    # Loading the element of json into a dictionary of strings\n",
    "count_sum = 0    # Variable to hold the sum\n",
    "\n",
    "for comment in js['comments']:    # Considering comments as a key in js dict, iteration over the value of comments which is a list\n",
    "    count_sum += comment['count']\n",
    "    \n",
    "print(\"The sum of all counts is :\",count_sum)"
   ]
  },
  {
   "cell_type": "code",
   "execution_count": null,
   "id": "baa1c46a",
   "metadata": {},
   "outputs": [],
   "source": []
  }
 ],
 "metadata": {
  "kernelspec": {
   "display_name": "Python 3 (ipykernel)",
   "language": "python",
   "name": "python3"
  },
  "language_info": {
   "codemirror_mode": {
    "name": "ipython",
    "version": 3
   },
   "file_extension": ".py",
   "mimetype": "text/x-python",
   "name": "python",
   "nbconvert_exporter": "python",
   "pygments_lexer": "ipython3",
   "version": "3.11.5"
  }
 },
 "nbformat": 4,
 "nbformat_minor": 5
}
