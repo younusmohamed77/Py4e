{
 "cells": [
  {
   "cell_type": "markdown",
   "id": "1a9fdff8",
   "metadata": {},
   "source": [
    "#### 5.2 Write a program that repeatedly prompts a user for integer numbers until the user enters 'done'. Once 'done' is entered, print out the largest and smallest of the numbers. If the user enters anything other than a valid number catch it with a try/except and put out an appropriate message and ignore the number. Enter 7, 2, bob, 10, and 4 and match the output below."
   ]
  },
  {
   "cell_type": "code",
   "execution_count": 1,
   "id": "46e2c20c",
   "metadata": {},
   "outputs": [
    {
     "name": "stdout",
     "output_type": "stream",
     "text": [
      "Enter a number: 7\n",
      "Enter a number: 2\n",
      "Enter a number: bob\n",
      "Invalid input\n",
      "Enter a number: 10\n",
      "Enter a number: 4\n",
      "Enter a number: done\n",
      "Maximum is 10\n",
      "Minimum is 2\n"
     ]
    }
   ],
   "source": [
    "largest = None\n",
    "smallest = None\n",
    "\n",
    "while True:\n",
    "    num = input(\"Enter a number: \")\n",
    "    \n",
    "    if num == \"done\":\n",
    "        break\n",
    "    \n",
    "    else:\n",
    "        \n",
    "        try:\n",
    "            int(num)\n",
    "            \n",
    "        except:\n",
    "            print(\"Invalid input\")\n",
    "            continue\n",
    "        \n",
    "    if largest == None and smallest == None:\n",
    "        largest = int(num)\n",
    "        smallest = int(num)\n",
    "    \n",
    "    if largest < int(num):\n",
    "        largest = int(num)\n",
    "\n",
    "    elif smallest > int(num):\n",
    "        smallest = int(num)\n",
    "        \n",
    "print(\"Maximum is\", largest)\n",
    "print(\"Minimum is\", smallest)"
   ]
  },
  {
   "cell_type": "code",
   "execution_count": null,
   "id": "1b11e0e6",
   "metadata": {},
   "outputs": [],
   "source": []
  }
 ],
 "metadata": {
  "kernelspec": {
   "display_name": "Python 3 (ipykernel)",
   "language": "python",
   "name": "python3"
  },
  "language_info": {
   "codemirror_mode": {
    "name": "ipython",
    "version": 3
   },
   "file_extension": ".py",
   "mimetype": "text/x-python",
   "name": "python",
   "nbconvert_exporter": "python",
   "pygments_lexer": "ipython3",
   "version": "3.8.18"
  }
 },
 "nbformat": 4,
 "nbformat_minor": 5
}
