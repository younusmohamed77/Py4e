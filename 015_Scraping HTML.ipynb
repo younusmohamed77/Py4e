{
 "cells": [
  {
   "cell_type": "markdown",
   "id": "b1da80ff",
   "metadata": {},
   "source": [
    "#### Scraping Numbers from HTML using BeautifulSoup \n",
    "\n",
    "In this assignment you will write a Python program similar to http://www.py4e.com/code3/urllink2.py. The program will use urllib to read the HTML from the data files below, and parse the data, extracting numbers and compute the sum of the numbers in the file.\n",
    "\n",
    "We provide two files for this assignment. One is a sample file where we give you the sum for your testing and the other is the actual data you need to process for the assignment.\n",
    "\n",
    "- Sample data: http://py4e-data.dr-chuck.net/comments_42.html (Sum=2553)\n",
    "- Actual data: http://py4e-data.dr-chuck.net/comments_1936334.html (Sum ends with 61)\n",
    "\n",
    "You do not need to save these files to your folder since your program will read the data directly from the URL. Note: Each student will have a distinct data url for the assignment - so only use your own data url for analysis."
   ]
  },
  {
   "cell_type": "code",
   "execution_count": 1,
   "id": "c230ac13",
   "metadata": {},
   "outputs": [],
   "source": [
    "# Importing the necessary files\n",
    "\n",
    "import urllib.request, urllib.parse, urllib.error\n",
    "from bs4 import BeautifulSoup\n",
    "import ssl"
   ]
  },
  {
   "cell_type": "code",
   "execution_count": 2,
   "id": "0636cf2f",
   "metadata": {},
   "outputs": [],
   "source": [
    "# Ignore SSL certificate errors\n",
    "\n",
    "ctx = ssl.create_default_context()\n",
    "ctx.check_hostname = False\n",
    "ctx.verify_mode = ssl.CERT_NONE"
   ]
  },
  {
   "cell_type": "code",
   "execution_count": 3,
   "id": "25624472",
   "metadata": {},
   "outputs": [
    {
     "name": "stdout",
     "output_type": "stream",
     "text": [
      "Enter the URL : http://py4e-data.dr-chuck.net/comments_42.html\n"
     ]
    }
   ],
   "source": [
    "url = input('Enter the URL : ')    # Getting the url from the user\n",
    "html = urllib.request.urlopen(url, context = ctx)    # Opening(connecting) to the html file\n",
    "soup = BeautifulSoup(html, \"html.parser\")    # Parsing the data to a python readable format"
   ]
  },
  {
   "cell_type": "code",
   "execution_count": 4,
   "id": "8c2d8690",
   "metadata": {},
   "outputs": [
    {
     "data": {
      "text/plain": [
       "<http.client.HTTPResponse at 0x1c57c3020e0>"
      ]
     },
     "execution_count": 4,
     "metadata": {},
     "output_type": "execute_result"
    }
   ],
   "source": [
    "html"
   ]
  },
  {
   "cell_type": "code",
   "execution_count": 5,
   "id": "fa894af1",
   "metadata": {},
   "outputs": [
    {
     "data": {
      "text/plain": [
       "<html>\n",
       "<head>\n",
       "<title>Welcome to the comments assignment from www.py4e.com</title>\n",
       "</head>\n",
       "<body>\n",
       "<h1>This file contains the sample data for testing</h1>\n",
       "<table border=\"2\">\n",
       "<tr>\n",
       "<td>Name</td><td>Comments</td>\n",
       "</tr>\n",
       "<tr><td>Romina</td><td><span class=\"comments\">97</span></td></tr>\n",
       "<tr><td>Laurie</td><td><span class=\"comments\">97</span></td></tr>\n",
       "<tr><td>Bayli</td><td><span class=\"comments\">90</span></td></tr>\n",
       "<tr><td>Siyona</td><td><span class=\"comments\">90</span></td></tr>\n",
       "<tr><td>Taisha</td><td><span class=\"comments\">88</span></td></tr>\n",
       "<tr><td>Alanda</td><td><span class=\"comments\">87</span></td></tr>\n",
       "<tr><td>Ameelia</td><td><span class=\"comments\">87</span></td></tr>\n",
       "<tr><td>Prasheeta</td><td><span class=\"comments\">80</span></td></tr>\n",
       "<tr><td>Asif</td><td><span class=\"comments\">79</span></td></tr>\n",
       "<tr><td>Risa</td><td><span class=\"comments\">79</span></td></tr>\n",
       "<tr><td>Zi</td><td><span class=\"comments\">78</span></td></tr>\n",
       "<tr><td>Danyil</td><td><span class=\"comments\">76</span></td></tr>\n",
       "<tr><td>Ediomi</td><td><span class=\"comments\">76</span></td></tr>\n",
       "<tr><td>Barry</td><td><span class=\"comments\">72</span></td></tr>\n",
       "<tr><td>Lance</td><td><span class=\"comments\">72</span></td></tr>\n",
       "<tr><td>Hattie</td><td><span class=\"comments\">66</span></td></tr>\n",
       "<tr><td>Mathu</td><td><span class=\"comments\">66</span></td></tr>\n",
       "<tr><td>Bowie</td><td><span class=\"comments\">65</span></td></tr>\n",
       "<tr><td>Samara</td><td><span class=\"comments\">65</span></td></tr>\n",
       "<tr><td>Uchenna</td><td><span class=\"comments\">64</span></td></tr>\n",
       "<tr><td>Shauni</td><td><span class=\"comments\">61</span></td></tr>\n",
       "<tr><td>Georgia</td><td><span class=\"comments\">61</span></td></tr>\n",
       "<tr><td>Rivan</td><td><span class=\"comments\">59</span></td></tr>\n",
       "<tr><td>Kenan</td><td><span class=\"comments\">58</span></td></tr>\n",
       "<tr><td>Hassan</td><td><span class=\"comments\">57</span></td></tr>\n",
       "<tr><td>Isma</td><td><span class=\"comments\">57</span></td></tr>\n",
       "<tr><td>Samanthalee</td><td><span class=\"comments\">54</span></td></tr>\n",
       "<tr><td>Alexa</td><td><span class=\"comments\">51</span></td></tr>\n",
       "<tr><td>Caine</td><td><span class=\"comments\">49</span></td></tr>\n",
       "<tr><td>Grady</td><td><span class=\"comments\">47</span></td></tr>\n",
       "<tr><td>Anne</td><td><span class=\"comments\">40</span></td></tr>\n",
       "<tr><td>Rihan</td><td><span class=\"comments\">38</span></td></tr>\n",
       "<tr><td>Alexei</td><td><span class=\"comments\">37</span></td></tr>\n",
       "<tr><td>Indie</td><td><span class=\"comments\">36</span></td></tr>\n",
       "<tr><td>Rhuairidh</td><td><span class=\"comments\">36</span></td></tr>\n",
       "<tr><td>Annoushka</td><td><span class=\"comments\">32</span></td></tr>\n",
       "<tr><td>Kenzi</td><td><span class=\"comments\">25</span></td></tr>\n",
       "<tr><td>Shahd</td><td><span class=\"comments\">24</span></td></tr>\n",
       "<tr><td>Irvine</td><td><span class=\"comments\">22</span></td></tr>\n",
       "<tr><td>Carys</td><td><span class=\"comments\">21</span></td></tr>\n",
       "<tr><td>Skye</td><td><span class=\"comments\">19</span></td></tr>\n",
       "<tr><td>Atiya</td><td><span class=\"comments\">18</span></td></tr>\n",
       "<tr><td>Rohan</td><td><span class=\"comments\">18</span></td></tr>\n",
       "<tr><td>Nuala</td><td><span class=\"comments\">14</span></td></tr>\n",
       "<tr><td>Maram</td><td><span class=\"comments\">12</span></td></tr>\n",
       "<tr><td>Carlo</td><td><span class=\"comments\">12</span></td></tr>\n",
       "<tr><td>Japleen</td><td><span class=\"comments\">9</span></td></tr>\n",
       "<tr><td>Breeanna</td><td><span class=\"comments\">7</span></td></tr>\n",
       "<tr><td>Zaaine</td><td><span class=\"comments\">3</span></td></tr>\n",
       "<tr><td>Inika</td><td><span class=\"comments\">2</span></td></tr>\n",
       "</table>\n",
       "</body>\n",
       "</html>"
      ]
     },
     "execution_count": 5,
     "metadata": {},
     "output_type": "execute_result"
    }
   ],
   "source": [
    "soup"
   ]
  },
  {
   "cell_type": "code",
   "execution_count": 7,
   "id": "6cced387",
   "metadata": {},
   "outputs": [
    {
     "data": {
      "text/plain": [
       "[<span class=\"comments\">97</span>,\n",
       " <span class=\"comments\">97</span>,\n",
       " <span class=\"comments\">90</span>,\n",
       " <span class=\"comments\">90</span>,\n",
       " <span class=\"comments\">88</span>,\n",
       " <span class=\"comments\">87</span>,\n",
       " <span class=\"comments\">87</span>,\n",
       " <span class=\"comments\">80</span>,\n",
       " <span class=\"comments\">79</span>,\n",
       " <span class=\"comments\">79</span>,\n",
       " <span class=\"comments\">78</span>,\n",
       " <span class=\"comments\">76</span>,\n",
       " <span class=\"comments\">76</span>,\n",
       " <span class=\"comments\">72</span>,\n",
       " <span class=\"comments\">72</span>,\n",
       " <span class=\"comments\">66</span>,\n",
       " <span class=\"comments\">66</span>,\n",
       " <span class=\"comments\">65</span>,\n",
       " <span class=\"comments\">65</span>,\n",
       " <span class=\"comments\">64</span>,\n",
       " <span class=\"comments\">61</span>,\n",
       " <span class=\"comments\">61</span>,\n",
       " <span class=\"comments\">59</span>,\n",
       " <span class=\"comments\">58</span>,\n",
       " <span class=\"comments\">57</span>,\n",
       " <span class=\"comments\">57</span>,\n",
       " <span class=\"comments\">54</span>,\n",
       " <span class=\"comments\">51</span>,\n",
       " <span class=\"comments\">49</span>,\n",
       " <span class=\"comments\">47</span>,\n",
       " <span class=\"comments\">40</span>,\n",
       " <span class=\"comments\">38</span>,\n",
       " <span class=\"comments\">37</span>,\n",
       " <span class=\"comments\">36</span>,\n",
       " <span class=\"comments\">36</span>,\n",
       " <span class=\"comments\">32</span>,\n",
       " <span class=\"comments\">25</span>,\n",
       " <span class=\"comments\">24</span>,\n",
       " <span class=\"comments\">22</span>,\n",
       " <span class=\"comments\">21</span>,\n",
       " <span class=\"comments\">19</span>,\n",
       " <span class=\"comments\">18</span>,\n",
       " <span class=\"comments\">18</span>,\n",
       " <span class=\"comments\">14</span>,\n",
       " <span class=\"comments\">12</span>,\n",
       " <span class=\"comments\">12</span>,\n",
       " <span class=\"comments\">9</span>,\n",
       " <span class=\"comments\">7</span>,\n",
       " <span class=\"comments\">3</span>,\n",
       " <span class=\"comments\">2</span>]"
      ]
     },
     "execution_count": 7,
     "metadata": {},
     "output_type": "execute_result"
    }
   ],
   "source": [
    "tags = soup('span')    # Saving all the tags of type 'span' from the file\n",
    "tags"
   ]
  },
  {
   "cell_type": "code",
   "execution_count": 8,
   "id": "3358ae46",
   "metadata": {},
   "outputs": [
    {
     "name": "stdout",
     "output_type": "stream",
     "text": [
      "<span class=\"comments\">97</span>\n",
      "<span class=\"comments\">97</span>\n",
      "<span class=\"comments\">90</span>\n",
      "<span class=\"comments\">90</span>\n",
      "<span class=\"comments\">88</span>\n",
      "<span class=\"comments\">87</span>\n",
      "<span class=\"comments\">87</span>\n",
      "<span class=\"comments\">80</span>\n",
      "<span class=\"comments\">79</span>\n",
      "<span class=\"comments\">79</span>\n",
      "<span class=\"comments\">78</span>\n",
      "<span class=\"comments\">76</span>\n",
      "<span class=\"comments\">76</span>\n",
      "<span class=\"comments\">72</span>\n",
      "<span class=\"comments\">72</span>\n",
      "<span class=\"comments\">66</span>\n",
      "<span class=\"comments\">66</span>\n",
      "<span class=\"comments\">65</span>\n",
      "<span class=\"comments\">65</span>\n",
      "<span class=\"comments\">64</span>\n",
      "<span class=\"comments\">61</span>\n",
      "<span class=\"comments\">61</span>\n",
      "<span class=\"comments\">59</span>\n",
      "<span class=\"comments\">58</span>\n",
      "<span class=\"comments\">57</span>\n",
      "<span class=\"comments\">57</span>\n",
      "<span class=\"comments\">54</span>\n",
      "<span class=\"comments\">51</span>\n",
      "<span class=\"comments\">49</span>\n",
      "<span class=\"comments\">47</span>\n",
      "<span class=\"comments\">40</span>\n",
      "<span class=\"comments\">38</span>\n",
      "<span class=\"comments\">37</span>\n",
      "<span class=\"comments\">36</span>\n",
      "<span class=\"comments\">36</span>\n",
      "<span class=\"comments\">32</span>\n",
      "<span class=\"comments\">25</span>\n",
      "<span class=\"comments\">24</span>\n",
      "<span class=\"comments\">22</span>\n",
      "<span class=\"comments\">21</span>\n",
      "<span class=\"comments\">19</span>\n",
      "<span class=\"comments\">18</span>\n",
      "<span class=\"comments\">18</span>\n",
      "<span class=\"comments\">14</span>\n",
      "<span class=\"comments\">12</span>\n",
      "<span class=\"comments\">12</span>\n",
      "<span class=\"comments\">9</span>\n",
      "<span class=\"comments\">7</span>\n",
      "<span class=\"comments\">3</span>\n",
      "<span class=\"comments\">2</span>\n"
     ]
    }
   ],
   "source": [
    "for tag in tags:\n",
    "    print(tag)    # Print each tag"
   ]
  },
  {
   "cell_type": "code",
   "execution_count": 9,
   "id": "71afbc92",
   "metadata": {},
   "outputs": [
    {
     "name": "stdout",
     "output_type": "stream",
     "text": [
      "URL None\n",
      "URL None\n",
      "URL None\n",
      "URL None\n",
      "URL None\n",
      "URL None\n",
      "URL None\n",
      "URL None\n",
      "URL None\n",
      "URL None\n",
      "URL None\n",
      "URL None\n",
      "URL None\n",
      "URL None\n",
      "URL None\n",
      "URL None\n",
      "URL None\n",
      "URL None\n",
      "URL None\n",
      "URL None\n",
      "URL None\n",
      "URL None\n",
      "URL None\n",
      "URL None\n",
      "URL None\n",
      "URL None\n",
      "URL None\n",
      "URL None\n",
      "URL None\n",
      "URL None\n",
      "URL None\n",
      "URL None\n",
      "URL None\n",
      "URL None\n",
      "URL None\n",
      "URL None\n",
      "URL None\n",
      "URL None\n",
      "URL None\n",
      "URL None\n",
      "URL None\n",
      "URL None\n",
      "URL None\n",
      "URL None\n",
      "URL None\n",
      "URL None\n",
      "URL None\n",
      "URL None\n",
      "URL None\n",
      "URL None\n"
     ]
    }
   ],
   "source": [
    "for tag in tags:\n",
    "    print('URL', tag.get('herf', None))    # This line will get the links if there are any in the tag line"
   ]
  },
  {
   "cell_type": "code",
   "execution_count": 12,
   "id": "51c07db2",
   "metadata": {},
   "outputs": [
    {
     "name": "stdout",
     "output_type": "stream",
     "text": [
      "Contents: 97\n",
      "Contents: 97\n",
      "Contents: 90\n",
      "Contents: 90\n",
      "Contents: 88\n",
      "Contents: 87\n",
      "Contents: 87\n",
      "Contents: 80\n",
      "Contents: 79\n",
      "Contents: 79\n",
      "Contents: 78\n",
      "Contents: 76\n",
      "Contents: 76\n",
      "Contents: 72\n",
      "Contents: 72\n",
      "Contents: 66\n",
      "Contents: 66\n",
      "Contents: 65\n",
      "Contents: 65\n",
      "Contents: 64\n",
      "Contents: 61\n",
      "Contents: 61\n",
      "Contents: 59\n",
      "Contents: 58\n",
      "Contents: 57\n",
      "Contents: 57\n",
      "Contents: 54\n",
      "Contents: 51\n",
      "Contents: 49\n",
      "Contents: 47\n",
      "Contents: 40\n",
      "Contents: 38\n",
      "Contents: 37\n",
      "Contents: 36\n",
      "Contents: 36\n",
      "Contents: 32\n",
      "Contents: 25\n",
      "Contents: 24\n",
      "Contents: 22\n",
      "Contents: 21\n",
      "Contents: 19\n",
      "Contents: 18\n",
      "Contents: 18\n",
      "Contents: 14\n",
      "Contents: 12\n",
      "Contents: 12\n",
      "Contents: 9\n",
      "Contents: 7\n",
      "Contents: 3\n",
      "Contents: 2\n"
     ]
    }
   ],
   "source": [
    "for tag in tags:\n",
    "    print('Contents:', tag.contents[0])    # Printing the contents in each tag line"
   ]
  },
  {
   "cell_type": "code",
   "execution_count": 11,
   "id": "7d79e8ad",
   "metadata": {},
   "outputs": [
    {
     "name": "stdout",
     "output_type": "stream",
     "text": [
      "Attrs: {'class': ['comments']}\n",
      "Attrs: {'class': ['comments']}\n",
      "Attrs: {'class': ['comments']}\n",
      "Attrs: {'class': ['comments']}\n",
      "Attrs: {'class': ['comments']}\n",
      "Attrs: {'class': ['comments']}\n",
      "Attrs: {'class': ['comments']}\n",
      "Attrs: {'class': ['comments']}\n",
      "Attrs: {'class': ['comments']}\n",
      "Attrs: {'class': ['comments']}\n",
      "Attrs: {'class': ['comments']}\n",
      "Attrs: {'class': ['comments']}\n",
      "Attrs: {'class': ['comments']}\n",
      "Attrs: {'class': ['comments']}\n",
      "Attrs: {'class': ['comments']}\n",
      "Attrs: {'class': ['comments']}\n",
      "Attrs: {'class': ['comments']}\n",
      "Attrs: {'class': ['comments']}\n",
      "Attrs: {'class': ['comments']}\n",
      "Attrs: {'class': ['comments']}\n",
      "Attrs: {'class': ['comments']}\n",
      "Attrs: {'class': ['comments']}\n",
      "Attrs: {'class': ['comments']}\n",
      "Attrs: {'class': ['comments']}\n",
      "Attrs: {'class': ['comments']}\n",
      "Attrs: {'class': ['comments']}\n",
      "Attrs: {'class': ['comments']}\n",
      "Attrs: {'class': ['comments']}\n",
      "Attrs: {'class': ['comments']}\n",
      "Attrs: {'class': ['comments']}\n",
      "Attrs: {'class': ['comments']}\n",
      "Attrs: {'class': ['comments']}\n",
      "Attrs: {'class': ['comments']}\n",
      "Attrs: {'class': ['comments']}\n",
      "Attrs: {'class': ['comments']}\n",
      "Attrs: {'class': ['comments']}\n",
      "Attrs: {'class': ['comments']}\n",
      "Attrs: {'class': ['comments']}\n",
      "Attrs: {'class': ['comments']}\n",
      "Attrs: {'class': ['comments']}\n",
      "Attrs: {'class': ['comments']}\n",
      "Attrs: {'class': ['comments']}\n",
      "Attrs: {'class': ['comments']}\n",
      "Attrs: {'class': ['comments']}\n",
      "Attrs: {'class': ['comments']}\n",
      "Attrs: {'class': ['comments']}\n",
      "Attrs: {'class': ['comments']}\n",
      "Attrs: {'class': ['comments']}\n",
      "Attrs: {'class': ['comments']}\n",
      "Attrs: {'class': ['comments']}\n"
     ]
    }
   ],
   "source": [
    "for tag in tags:\n",
    "    print('Attrs:', tag.attrs)    # Printing the attributes in each tag line"
   ]
  },
  {
   "cell_type": "code",
   "execution_count": 15,
   "id": "041be52d",
   "metadata": {},
   "outputs": [
    {
     "name": "stdout",
     "output_type": "stream",
     "text": [
      "Sum of contents: 2553\n"
     ]
    }
   ],
   "source": [
    "contents_sum = 0\n",
    "\n",
    "for tag in tags:\n",
    "    contents_sum += int(tag.contents[0])\n",
    "\n",
    "print('Sum of contents:', contents_sum)    # Printing the contents in each tag line"
   ]
  },
  {
   "cell_type": "markdown",
   "id": "011aec35",
   "metadata": {},
   "source": [
    "#### Submission Code"
   ]
  },
  {
   "cell_type": "code",
   "execution_count": 16,
   "id": "5966b6c6",
   "metadata": {},
   "outputs": [
    {
     "name": "stdout",
     "output_type": "stream",
     "text": [
      "Enter the URL : http://py4e-data.dr-chuck.net/comments_1936334.html\n",
      "Sum of contents: 2561\n"
     ]
    }
   ],
   "source": [
    "# Importing the necessary files\n",
    "\n",
    "import urllib.request, urllib.parse, urllib.error\n",
    "from bs4 import BeautifulSoup\n",
    "import ssl\n",
    "\n",
    "# Ignore SSL certificate errors\n",
    "\n",
    "ctx = ssl.create_default_context()\n",
    "ctx.check_hostname = False\n",
    "ctx.verify_mode = ssl.CERT_NONE\n",
    "\n",
    "url = input('Enter the URL : ')    # Getting the url from the user\n",
    "html = urllib.request.urlopen(url, context = ctx)    # Opening(connecting) to the html file\n",
    "soup = BeautifulSoup(html, \"html.parser\")    # Parsing the data to a python readable format\n",
    "tags = soup('span')    # Saving all the tags of type 'span' from the file\n",
    "\n",
    "contents_sum = 0\n",
    "\n",
    "for tag in tags:\n",
    "    contents_sum += int(tag.contents[0])\n",
    "\n",
    "print('Sum of contents:', contents_sum)"
   ]
  },
  {
   "cell_type": "code",
   "execution_count": null,
   "id": "e0ac258c",
   "metadata": {},
   "outputs": [],
   "source": []
  }
 ],
 "metadata": {
  "kernelspec": {
   "display_name": "Python 3 (ipykernel)",
   "language": "python",
   "name": "python3"
  },
  "language_info": {
   "codemirror_mode": {
    "name": "ipython",
    "version": 3
   },
   "file_extension": ".py",
   "mimetype": "text/x-python",
   "name": "python",
   "nbconvert_exporter": "python",
   "pygments_lexer": "ipython3",
   "version": "3.11.5"
  }
 },
 "nbformat": 4,
 "nbformat_minor": 5
}
