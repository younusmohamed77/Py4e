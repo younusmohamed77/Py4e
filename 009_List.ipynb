{
 "cells": [
  {
   "cell_type": "markdown",
   "id": "32691e43",
   "metadata": {},
   "source": [
    "#### 8.4 Open the file romeo.txt and read it line by line. For each line, split the line into a list of words using the split() method. The program should build a list of words. For each word on each line check to see if the word is already in the list and if not append it to the list. When the program completes, sort and print the resulting words in python sort() order as shown in the desired output.\n",
    "\n",
    "#### You can download the sample data at http://www.py4e.com/code3/romeo.txt"
   ]
  },
  {
   "cell_type": "code",
   "execution_count": 20,
   "id": "15b85a5d",
   "metadata": {},
   "outputs": [
    {
     "name": "stdout",
     "output_type": "stream",
     "text": [
      "Enter file name: 009_romeo.txt\n",
      "['Arise', 'But', 'It', 'Juliet', 'Who', 'already', 'and', 'breaks', 'east', 'envious', 'fair', 'grief', 'is', 'kill', 'light', 'moon', 'pale', 'sick', 'soft', 'sun', 'the', 'through', 'what', 'window', 'with', 'yonder']\n"
     ]
    }
   ],
   "source": [
    "fname = input(\"Enter file name: \")    # Reading the file name from user\n",
    "fh = open(fname)    # Opening the file in file handle\n",
    "lines_list = fh.read().splitlines()    # Reading line by line as per the problem\n",
    "words_list = []    # List to hold the unique values\n",
    "\n",
    "for line in lines_list:    # Iterating line by line\n",
    "\n",
    "    for word in line.split():    # Iterating over each line\n",
    "\n",
    "        if word not in words_list:    # Checking if the word is already present \n",
    "            words_list.append(word)    # Addding the word to the list if not already present\n",
    "\n",
    "words_list.sort()    # Sorting the list using sort() function\n",
    "print(words_list)"
   ]
  },
  {
   "cell_type": "code",
   "execution_count": 18,
   "id": "ae19a8ec",
   "metadata": {},
   "outputs": [],
   "source": []
  },
  {
   "cell_type": "code",
   "execution_count": null,
   "id": "6ff2ddd9",
   "metadata": {},
   "outputs": [],
   "source": []
  }
 ],
 "metadata": {
  "kernelspec": {
   "display_name": "Python 3 (ipykernel)",
   "language": "python",
   "name": "python3"
  },
  "language_info": {
   "codemirror_mode": {
    "name": "ipython",
    "version": 3
   },
   "file_extension": ".py",
   "mimetype": "text/x-python",
   "name": "python",
   "nbconvert_exporter": "python",
   "pygments_lexer": "ipython3",
   "version": "3.8.18"
  }
 },
 "nbformat": 4,
 "nbformat_minor": 5
}
