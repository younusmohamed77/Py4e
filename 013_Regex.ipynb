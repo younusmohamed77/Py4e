{
 "cells": [
  {
   "cell_type": "markdown",
   "id": "acf665b8",
   "metadata": {},
   "source": [
    "#### Finding Numbers in a Haystack\n",
    "\n",
    "In this assignment you will read through and parse a file with text and numbers. You will extract all the numbers in the file and compute the sum of the numbers.\n",
    "\n",
    "#### Data Files\n",
    "We provide two files for this assignment. One is a sample file where we give you the sum for your testing and the other is the actual data you need to process for the assignment.\n",
    "\n",
    "- Sample data: http://py4e-data.dr-chuck.net/regex_sum_42.txt (There are 90 values with a sum=445833)\n",
    "- Actual data: http://py4e-data.dr-chuck.net/regex_sum_1936332.txt (There are 84 values and the sum ends with 480)"
   ]
  },
  {
   "cell_type": "code",
   "execution_count": 41,
   "id": "0fad15c0",
   "metadata": {},
   "outputs": [],
   "source": [
    "import re\n",
    "\n",
    "def sum_of_numbers(file_name):\n",
    "    fh = open(file_name)\n",
    "    num_list = []\n",
    "    num_sum = 0\n",
    "\n",
    "    for line in fh:\n",
    "        temp_list = re.findall('[0-9]+',line.rstrip())\n",
    "    \n",
    "        if len(temp_list) > 0:\n",
    "            num_list.append(temp_list)\n",
    "    for i in num_list:\n",
    "        for j in i:\n",
    "            num_sum += int(j)\n",
    "        \n",
    "    return num_sum"
   ]
  },
  {
   "cell_type": "code",
   "execution_count": 42,
   "id": "bc70b425",
   "metadata": {},
   "outputs": [],
   "source": [
    "# print(num_list)"
   ]
  },
  {
   "cell_type": "code",
   "execution_count": 45,
   "id": "6368e3bf",
   "metadata": {},
   "outputs": [
    {
     "name": "stdout",
     "output_type": "stream",
     "text": [
      "Enter the smaple file name:013_Sample.txt\n",
      "Enter the actual file name:013_Actual.txt\n"
     ]
    }
   ],
   "source": [
    "sample = input(\"Enter the smaple file name:\")\n",
    "actual = input(\"Enter the actual file name:\")"
   ]
  },
  {
   "cell_type": "code",
   "execution_count": 46,
   "id": "11f2b9df",
   "metadata": {},
   "outputs": [
    {
     "name": "stdout",
     "output_type": "stream",
     "text": [
      "The sum of all numbers in the sample file is : 445833\n",
      "The sum of all numbers in the sample file is : 392480\n"
     ]
    }
   ],
   "source": [
    "print(\"The sum of all numbers in the sample file is :\",sum_of_numbers(sample))\n",
    "print(\"The sum of all numbers in the sample file is :\",sum_of_numbers(actual))"
   ]
  },
  {
   "cell_type": "code",
   "execution_count": null,
   "id": "b8526a0e",
   "metadata": {},
   "outputs": [],
   "source": [
    "# Python 2\n",
    "# import re\n",
    "# print sum( [ ****** *** * in **********('[0-9]+',**************************.read()) ] )\n",
    "\n",
    "# Python 3:\n",
    "# import re\n",
    "# print( sum( [ ****** *** * in **********('[0-9]+',**************************.read()) ] ) )"
   ]
  }
 ],
 "metadata": {
  "kernelspec": {
   "display_name": "Python 3 (ipykernel)",
   "language": "python",
   "name": "python3"
  },
  "language_info": {
   "codemirror_mode": {
    "name": "ipython",
    "version": 3
   },
   "file_extension": ".py",
   "mimetype": "text/x-python",
   "name": "python",
   "nbconvert_exporter": "python",
   "pygments_lexer": "ipython3",
   "version": "3.11.5"
  }
 },
 "nbformat": 4,
 "nbformat_minor": 5
}
