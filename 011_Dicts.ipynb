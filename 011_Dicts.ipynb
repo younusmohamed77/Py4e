{
 "cells": [
  {
   "cell_type": "markdown",
   "id": "66eb5560",
   "metadata": {},
   "source": [
    "#### 9.4 Write a program to read through the mbox-short.txt and figure out who has sent the greatest number of mail messages. The program looks for 'From ' lines and takes the second word of those lines as the person who sent the mail. The program creates a Python dictionary that maps the sender's mail address to a count of the number of times they appear in the file. After the dictionary is produced, the program reads through the dictionary using a maximum loop to find the most prolific committer."
   ]
  },
  {
   "cell_type": "code",
   "execution_count": 7,
   "id": "ea935ea1",
   "metadata": {},
   "outputs": [
    {
     "name": "stdout",
     "output_type": "stream",
     "text": [
      "Enter file name: 008_mbox-short.txt\n",
      "{'stephen.marquard@uct.ac.za': 2, 'louis@media.berkeley.edu': 3, 'zqian@umich.edu': 4, 'rjlowe@iupui.edu': 2, 'cwen@iupui.edu': 5, 'gsilver@umich.edu': 3, 'wagnermr@iupui.edu': 1, 'antranig@caret.cam.ac.uk': 1, 'gopal.ramasammycook@gmail.com': 1, 'david.horwitz@uct.ac.za': 4, 'ray@media.berkeley.edu': 1}\n"
     ]
    }
   ],
   "source": [
    "name = input(\"Enter file name: \")    # Reading the file name from user\n",
    "\n",
    "if len(name) < 1:    # If no name is entered taking a default file name\n",
    "    fname = \"mbox-short.txt\"\n",
    "\n",
    "handle = open(name)    # Reading the file in a handle\n",
    "lines_list = handle.read().splitlines()    # Reading the file line by line and storing it in a list\n",
    "sender_dict = {}\n",
    "\n",
    "for line in lines_list:    # Iterating over each word of the line\n",
    "    \n",
    "    if line.startswith('From '):    # Check the condition for received mail\n",
    "        sender = line.split()[1]    # Getting the sender name from the line\n",
    "        \n",
    "        if sender in sender_dict:    # If the sender is already in the dict increasing the value by 1\n",
    "            sender_dict[sender] += 1\n",
    "            \n",
    "        else:\n",
    "            sender_dict[sender] = 1    # If not creating a key value pair with count as 1\n",
    "            \n",
    "print(sender_dict)"
   ]
  },
  {
   "cell_type": "code",
   "execution_count": 10,
   "id": "a379a714",
   "metadata": {},
   "outputs": [
    {
     "name": "stdout",
     "output_type": "stream",
     "text": [
      "cwen@iupui.edu 5\n"
     ]
    }
   ],
   "source": [
    "max_count = 0    # Variable to hold the maximum value\n",
    "\n",
    "for sender in sender_dict:    # Looping over the dictionary to find the maximum count\n",
    "    \n",
    "    if max_count < sender_dict[sender]:    # If block to check the maximum and assign the respective values to print\n",
    "        max_count = sender_dict[sender]\n",
    "        max_mailer = sender\n",
    "\n",
    "print(max_mailer, max_count)"
   ]
  },
  {
   "cell_type": "code",
   "execution_count": null,
   "id": "8ca07086",
   "metadata": {},
   "outputs": [],
   "source": []
  }
 ],
 "metadata": {
  "kernelspec": {
   "display_name": "Python 3 (ipykernel)",
   "language": "python",
   "name": "python3"
  },
  "language_info": {
   "codemirror_mode": {
    "name": "ipython",
    "version": 3
   },
   "file_extension": ".py",
   "mimetype": "text/x-python",
   "name": "python",
   "nbconvert_exporter": "python",
   "pygments_lexer": "ipython3",
   "version": "3.8.18"
  }
 },
 "nbformat": 4,
 "nbformat_minor": 5
}
