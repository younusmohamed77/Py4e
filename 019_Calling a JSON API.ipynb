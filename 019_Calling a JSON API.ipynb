{
 "cells": [
  {
   "cell_type": "markdown",
   "id": "62ffa2f2",
   "metadata": {},
   "source": [
    "#### Calling a JSON API\n",
    "\n",
    "In this assignment you will write a Python program somewhat similar to http://www.py4e.com/code3/geojson.py. The program will prompt for a location, contact a web service and retrieve JSON for the web service and parse that data, and retrieve the first place_id from the JSON. A place ID is a textual identifier that uniquely identifies a place as within Google Maps.\n",
    "API End Points\n",
    "\n",
    "To complete this assignment, you should use this API endpoint that has a static subset of the Google Data:\n",
    "\n",
    "http://py4e-data.dr-chuck.net/json?\n",
    "\n",
    "This API uses the same parameter (address) as the Google API. This API also has no rate limit so you can test as often as you like. If you visit the URL with no parameters, you get \"No address...\" response.\n",
    "To call the API, you need to include a key= parameter and provide the address that you are requesting as the address= parameter that is properly URL encoded using the urllib.parse.urlencode() function as shown in \n",
    "\n",
    "http://www.py4e.com/code3/geojson.py\n",
    "\n",
    "Make sure to check that your code is using the API endpoint as shown above. You will get different results from the geojson and json endpoints so make sure you are using the same end point as this autograder is using."
   ]
  },
  {
   "cell_type": "code",
   "execution_count": 14,
   "id": "f81dcc32",
   "metadata": {},
   "outputs": [],
   "source": [
    "# Importing the necesarry files and methods\n",
    "\n",
    "import urllib.request, urllib.parse, urllib.error\n",
    "from bs4 import BeautifulSoup\n",
    "import ssl\n",
    "import json"
   ]
  },
  {
   "cell_type": "code",
   "execution_count": 15,
   "id": "b3d7638b",
   "metadata": {},
   "outputs": [],
   "source": [
    "# Ignoring SSL certificate errors\n",
    "\n",
    "ctx = ssl.create_default_context()\n",
    "ctx.check_hostname = False\n",
    "ctx.verify_mode = ssl.CERT_NONE"
   ]
  },
  {
   "cell_type": "code",
   "execution_count": 16,
   "id": "5c0d0e75",
   "metadata": {},
   "outputs": [],
   "source": [
    "api_key = False    # Setting the api_key as False to proceed with the dummy url provided\n",
    "# api_key = \"Google's API key\"    # We can enter the geojson key from the below link if registered\n",
    "# https://developers.google.com/maps/documentation/geocoding/intro\n",
    "\n",
    "if api_key is False:\n",
    "    api_key = 42    # Setting the key value for the dummy url\n",
    "    serviceurl = 'http://py4e-data.dr-chuck.net/json?'    # dummy url\n",
    "\n",
    "else :\n",
    "    serviceurl = 'https://maps.googleapis.com/maps/api/geocode/json?'"
   ]
  },
  {
   "cell_type": "code",
   "execution_count": 18,
   "id": "df1e8f53",
   "metadata": {},
   "outputs": [
    {
     "name": "stdout",
     "output_type": "stream",
     "text": [
      "Enter location: South Federal University\n"
     ]
    }
   ],
   "source": [
    "address = input('Enter location: ')    # Getting the name of the university to get the place_id\n",
    "parms = dict()    # End parameters of the encoded url\n",
    "parms['address'] = address    # Adding the location received as the address\n",
    "\n",
    "if api_key is not False: parms['key'] = api_key    # Adding the dummy key value as the parameter\n",
    "url = serviceurl + urllib.parse.urlencode(parms)    # Encoding the url"
   ]
  },
  {
   "cell_type": "code",
   "execution_count": 19,
   "id": "1c7b10e8",
   "metadata": {},
   "outputs": [
    {
     "name": "stdout",
     "output_type": "stream",
     "text": [
      "Retrieving http://py4e-data.dr-chuck.net/json?address=South+Federal+University&key=42\n"
     ]
    }
   ],
   "source": [
    "print(\"Retrieving\",url)"
   ]
  },
  {
   "cell_type": "code",
   "execution_count": 20,
   "id": "c90978bb",
   "metadata": {},
   "outputs": [
    {
     "name": "stdout",
     "output_type": "stream",
     "text": [
      "Retrieved 6050 characters\n"
     ]
    }
   ],
   "source": [
    "url_data = urllib.request.urlopen(url, context=ctx).read().decode()    # Reading and decoding the json data from the url\n",
    "print('Retrieved', len(url_data), 'characters')"
   ]
  },
  {
   "cell_type": "code",
   "execution_count": 25,
   "id": "46c84e9f",
   "metadata": {},
   "outputs": [],
   "source": [
    "try:    # Try and except block to keep the program running even there is some error in retreiving the json file\n",
    "    js = json.loads(url_data)    # Loading the json file as python byte element\n",
    "except:\n",
    "    js = None\n",
    "\n",
    "if not js or 'status' not in js or js['status'] != 'OK':    # If the retrieving is unsuccessful\n",
    "    print('***Failed To Retrieve***')\n",
    "    print(url_data)"
   ]
  },
  {
   "cell_type": "code",
   "execution_count": 26,
   "id": "2b164813",
   "metadata": {},
   "outputs": [
    {
     "name": "stdout",
     "output_type": "stream",
     "text": [
      "{\"results\": [{\"address_components\": [{\"long_name\": \"105/42\", \"short_name\": \"105/42\", \"types\": [\"street_number\"]}, {\"long_name\": \"Bol'shaya Sadovaya Ulitsa\", \"short_name\": \"Bol'shaya Sadovaya Ulitsa\", \"types\": [\"route\"]}, {\"long_name\": \"Rostov\", \"short_name\": \"Rostov\", \"types\": [\"locality\", \"political\"]}, {\"long_name\": \"Kirovskiy\", \"short_name\": \"Kirovskiy\", \"types\": [\"administrative_area_level_3\", \"political\"]}, {\"long_name\": \"Gorod Rostov-On-Don\", \"short_name\": \"Gorod Rostov-On-Don\", \"types\": [\"administrative_area_level_2\", \"political\"]}, {\"long_name\": \"Rostovskaya oblast'\", \"short_name\": \"Rostovskaya oblast'\", \"types\": [\"administrative_area_level_1\", \"political\"]}, {\"long_name\": \"Russia\", \"short_name\": \"RU\", \"types\": [\"country\", \"political\"]}, {\"long_name\": \"344006\", \"short_name\": \"344006\", \"types\": [\"postal_code\"]}], \"formatted_address\": \"\\u0443\\u043b, Bol'shaya Sadovaya Ulitsa, 105/42, Rostov, Rostovskaya oblast', Russia, 344006\", \"geometry\": {\"location\": {\"lat\": 47.224719, \"lng\": 39.7283339}, \"location_type\": \"ROOFTOP\", \"viewport\": {\"northeast\": {\"lat\": 47.2259369802915, \"lng\": 39.72971083029149}, \"southwest\": {\"lat\": 47.2232390197085, \"lng\": 39.7270128697085}}}, \"partial_match\": true, \"place_id\": \"ChIJNeHD4p-540AR2Q0_ZjwmKJ8\", \"plus_code\": {\"compound_code\": \"6PFH+V8 Rostov-on-Don, Rostov Oblast, Russia\", \"global_code\": \"8GVX6PFH+V8\"}, \"types\": [\"establishment\", \"point_of_interest\", \"university\"]}, {\"address_components\": [{\"long_name\": \"93\", \"short_name\": \"93\", \"types\": [\"street_number\"]}, {\"long_name\": \"Universitetskiy Pereulok\", \"short_name\": \"Universitetskiy Pereulok\", \"types\": [\"route\"]}, {\"long_name\": \"Rostov\", \"short_name\": \"Rostov\", \"types\": [\"locality\", \"political\"]}, {\"long_name\": \"Kirovskiy\", \"short_name\": \"Kirovskiy\", \"types\": [\"administrative_area_level_3\", \"political\"]}, {\"long_name\": \"Gorod Rostov-On-Don\", \"short_name\": \"Gorod Rostov-On-Don\", \"types\": [\"administrative_area_level_2\", \"political\"]}, {\"long_name\": \"Rostovskaya oblast'\", \"short_name\": \"Rostovskaya oblast'\", \"types\": [\"administrative_area_level_1\", \"political\"]}, {\"long_name\": \"Russia\", \"short_name\": \"RU\", \"types\": [\"country\", \"political\"]}, {\"long_name\": \"344006\", \"short_name\": \"344006\", \"types\": [\"postal_code\"]}], \"formatted_address\": \"Universitetskiy Pereulok, 93, Rostov, Rostovskaya oblast', Russia, 344006\", \"geometry\": {\"location\": {\"lat\": 47.2268925, \"lng\": 39.7268374}, \"location_type\": \"ROOFTOP\", \"viewport\": {\"northeast\": {\"lat\": 47.2282515802915, \"lng\": 39.7282280302915}, \"southwest\": {\"lat\": 47.22555361970851, \"lng\": 39.7255300697085}}}, \"partial_match\": true, \"place_id\": \"ChIJQU-3Q6C540AR6kAnfkCaRfI\", \"plus_code\": {\"compound_code\": \"6PGG+QP Rostov-on-Don, Rostov Oblast, Russia\", \"global_code\": \"8GVX6PGG+QP\"}, \"types\": [\"establishment\", \"point_of_interest\"]}], \"status\": \"OK\"}\n"
     ]
    }
   ],
   "source": [
    "print(json.dumps(js))    # Dumping the json code into a dictionary"
   ]
  },
  {
   "cell_type": "code",
   "execution_count": 28,
   "id": "8ca58de8",
   "metadata": {},
   "outputs": [
    {
     "name": "stdout",
     "output_type": "stream",
     "text": [
      "{\n",
      "  \"results\": [\n",
      "    {\n",
      "      \"address_components\": [\n",
      "        {\n",
      "          \"long_name\": \"105/42\",\n",
      "          \"short_name\": \"105/42\",\n",
      "          \"types\": [\n",
      "            \"street_number\"\n",
      "          ]\n",
      "        },\n",
      "        {\n",
      "          \"long_name\": \"Bol'shaya Sadovaya Ulitsa\",\n",
      "          \"short_name\": \"Bol'shaya Sadovaya Ulitsa\",\n",
      "          \"types\": [\n",
      "            \"route\"\n",
      "          ]\n",
      "        },\n",
      "        {\n",
      "          \"long_name\": \"Rostov\",\n",
      "          \"short_name\": \"Rostov\",\n",
      "          \"types\": [\n",
      "            \"locality\",\n",
      "            \"political\"\n",
      "          ]\n",
      "        },\n",
      "        {\n",
      "          \"long_name\": \"Kirovskiy\",\n",
      "          \"short_name\": \"Kirovskiy\",\n",
      "          \"types\": [\n",
      "            \"administrative_area_level_3\",\n",
      "            \"political\"\n",
      "          ]\n",
      "        },\n",
      "        {\n",
      "          \"long_name\": \"Gorod Rostov-On-Don\",\n",
      "          \"short_name\": \"Gorod Rostov-On-Don\",\n",
      "          \"types\": [\n",
      "            \"administrative_area_level_2\",\n",
      "            \"political\"\n",
      "          ]\n",
      "        },\n",
      "        {\n",
      "          \"long_name\": \"Rostovskaya oblast'\",\n",
      "          \"short_name\": \"Rostovskaya oblast'\",\n",
      "          \"types\": [\n",
      "            \"administrative_area_level_1\",\n",
      "            \"political\"\n",
      "          ]\n",
      "        },\n",
      "        {\n",
      "          \"long_name\": \"Russia\",\n",
      "          \"short_name\": \"RU\",\n",
      "          \"types\": [\n",
      "            \"country\",\n",
      "            \"political\"\n",
      "          ]\n",
      "        },\n",
      "        {\n",
      "          \"long_name\": \"344006\",\n",
      "          \"short_name\": \"344006\",\n",
      "          \"types\": [\n",
      "            \"postal_code\"\n",
      "          ]\n",
      "        }\n",
      "      ],\n",
      "      \"formatted_address\": \"\\u0443\\u043b, Bol'shaya Sadovaya Ulitsa, 105/42, Rostov, Rostovskaya oblast', Russia, 344006\",\n",
      "      \"geometry\": {\n",
      "        \"location\": {\n",
      "          \"lat\": 47.224719,\n",
      "          \"lng\": 39.7283339\n",
      "        },\n",
      "        \"location_type\": \"ROOFTOP\",\n",
      "        \"viewport\": {\n",
      "          \"northeast\": {\n",
      "            \"lat\": 47.2259369802915,\n",
      "            \"lng\": 39.72971083029149\n",
      "          },\n",
      "          \"southwest\": {\n",
      "            \"lat\": 47.2232390197085,\n",
      "            \"lng\": 39.7270128697085\n",
      "          }\n",
      "        }\n",
      "      },\n",
      "      \"partial_match\": true,\n",
      "      \"place_id\": \"ChIJNeHD4p-540AR2Q0_ZjwmKJ8\",\n",
      "      \"plus_code\": {\n",
      "        \"compound_code\": \"6PFH+V8 Rostov-on-Don, Rostov Oblast, Russia\",\n",
      "        \"global_code\": \"8GVX6PFH+V8\"\n",
      "      },\n",
      "      \"types\": [\n",
      "        \"establishment\",\n",
      "        \"point_of_interest\",\n",
      "        \"university\"\n",
      "      ]\n",
      "    },\n",
      "    {\n",
      "      \"address_components\": [\n",
      "        {\n",
      "          \"long_name\": \"93\",\n",
      "          \"short_name\": \"93\",\n",
      "          \"types\": [\n",
      "            \"street_number\"\n",
      "          ]\n",
      "        },\n",
      "        {\n",
      "          \"long_name\": \"Universitetskiy Pereulok\",\n",
      "          \"short_name\": \"Universitetskiy Pereulok\",\n",
      "          \"types\": [\n",
      "            \"route\"\n",
      "          ]\n",
      "        },\n",
      "        {\n",
      "          \"long_name\": \"Rostov\",\n",
      "          \"short_name\": \"Rostov\",\n",
      "          \"types\": [\n",
      "            \"locality\",\n",
      "            \"political\"\n",
      "          ]\n",
      "        },\n",
      "        {\n",
      "          \"long_name\": \"Kirovskiy\",\n",
      "          \"short_name\": \"Kirovskiy\",\n",
      "          \"types\": [\n",
      "            \"administrative_area_level_3\",\n",
      "            \"political\"\n",
      "          ]\n",
      "        },\n",
      "        {\n",
      "          \"long_name\": \"Gorod Rostov-On-Don\",\n",
      "          \"short_name\": \"Gorod Rostov-On-Don\",\n",
      "          \"types\": [\n",
      "            \"administrative_area_level_2\",\n",
      "            \"political\"\n",
      "          ]\n",
      "        },\n",
      "        {\n",
      "          \"long_name\": \"Rostovskaya oblast'\",\n",
      "          \"short_name\": \"Rostovskaya oblast'\",\n",
      "          \"types\": [\n",
      "            \"administrative_area_level_1\",\n",
      "            \"political\"\n",
      "          ]\n",
      "        },\n",
      "        {\n",
      "          \"long_name\": \"Russia\",\n",
      "          \"short_name\": \"RU\",\n",
      "          \"types\": [\n",
      "            \"country\",\n",
      "            \"political\"\n",
      "          ]\n",
      "        },\n",
      "        {\n",
      "          \"long_name\": \"344006\",\n",
      "          \"short_name\": \"344006\",\n",
      "          \"types\": [\n",
      "            \"postal_code\"\n",
      "          ]\n",
      "        }\n",
      "      ],\n",
      "      \"formatted_address\": \"Universitetskiy Pereulok, 93, Rostov, Rostovskaya oblast', Russia, 344006\",\n",
      "      \"geometry\": {\n",
      "        \"location\": {\n",
      "          \"lat\": 47.2268925,\n",
      "          \"lng\": 39.7268374\n",
      "        },\n",
      "        \"location_type\": \"ROOFTOP\",\n",
      "        \"viewport\": {\n",
      "          \"northeast\": {\n",
      "            \"lat\": 47.2282515802915,\n",
      "            \"lng\": 39.7282280302915\n",
      "          },\n",
      "          \"southwest\": {\n",
      "            \"lat\": 47.22555361970851,\n",
      "            \"lng\": 39.7255300697085\n",
      "          }\n",
      "        }\n",
      "      },\n",
      "      \"partial_match\": true,\n",
      "      \"place_id\": \"ChIJQU-3Q6C540AR6kAnfkCaRfI\",\n",
      "      \"plus_code\": {\n",
      "        \"compound_code\": \"6PGG+QP Rostov-on-Don, Rostov Oblast, Russia\",\n",
      "        \"global_code\": \"8GVX6PGG+QP\"\n",
      "      },\n",
      "      \"types\": [\n",
      "        \"establishment\",\n",
      "        \"point_of_interest\"\n",
      "      ]\n",
      "    }\n",
      "  ],\n",
      "  \"status\": \"OK\"\n",
      "}\n"
     ]
    }
   ],
   "source": [
    "print(json.dumps(js, indent = 2))    # Indent to give indentaion to the json code to make it readable"
   ]
  },
  {
   "cell_type": "code",
   "execution_count": 30,
   "id": "22d8d0ad",
   "metadata": {},
   "outputs": [
    {
     "name": "stdout",
     "output_type": "stream",
     "text": [
      "ChIJNeHD4p-540AR2Q0_ZjwmKJ8\n"
     ]
    }
   ],
   "source": [
    "place_id = js['results'][0]['place_id']    # In the js dict, using the key 'results' to go into the reults list\n",
    "# From the results list going into the first element which is again a dictionary with all data\n",
    "# Using the key 'place_id' to get the output\n",
    "print(place_id)"
   ]
  },
  {
   "cell_type": "markdown",
   "id": "803a1991",
   "metadata": {},
   "source": [
    "#### Submission code"
   ]
  },
  {
   "cell_type": "code",
   "execution_count": 31,
   "id": "c02faf33",
   "metadata": {},
   "outputs": [
    {
     "name": "stdout",
     "output_type": "stream",
     "text": [
      "Enter location: Universidad Nacional Costa Rica\n",
      "Retrieving http://py4e-data.dr-chuck.net/json?address=Universidad+Nacional+Costa+Rica&key=42\n",
      "Retrieved 2081 characters\n",
      "Place ID of the entered University is : ChIJMcwP2876oI8Rcutqsc4MtIE\n"
     ]
    }
   ],
   "source": [
    "# Importing the necesarry files and methods\n",
    "\n",
    "import urllib.request, urllib.parse, urllib.error\n",
    "from bs4 import BeautifulSoup\n",
    "import ssl\n",
    "import json\n",
    "\n",
    "# Ignoring SSL certificate errors\n",
    "\n",
    "ctx = ssl.create_default_context()\n",
    "ctx.check_hostname = False\n",
    "ctx.verify_mode = ssl.CERT_NONE\n",
    "\n",
    "api_key = False\n",
    "# api_key = \"Google's API key\"\n",
    "# https://developers.google.com/maps/documentation/geocoding/intro\n",
    "\n",
    "api_key = False    # Setting the api_key as False to proceed with the dummy url provided\n",
    "# api_key = \"Google's API key\"    # We can enter the geojson key from the below link if registered\n",
    "# https://developers.google.com/maps/documentation/geocoding/intro\n",
    "\n",
    "if api_key is False:\n",
    "    api_key = 42    # Setting the key value for the dummy url\n",
    "    serviceurl = 'http://py4e-data.dr-chuck.net/json?'    # dummy url\n",
    "\n",
    "else :\n",
    "    serviceurl = 'https://maps.googleapis.com/maps/api/geocode/json?'\n",
    "    \n",
    "address = input('Enter location: ')    # Getting the name of the university to get the place_id\n",
    "parms = dict()    # End parameters of the encoded url\n",
    "parms['address'] = address    # Adding the location received as the address\n",
    "\n",
    "if api_key is not False: parms['key'] = api_key    # Adding the dummy key value as the parameter\n",
    "url = serviceurl + urllib.parse.urlencode(parms)    # Encoding the url\n",
    "print(\"Retrieving\",url)\n",
    "\n",
    "url_data = urllib.request.urlopen(url, context=ctx).read().decode()    # Reading and decoding the json data from the url\n",
    "print('Retrieved', len(url_data), 'characters')\n",
    "\n",
    "try:    # Try and except block to keep the program running even there is some error in retreiving the json file\n",
    "    js = json.loads(url_data)    # Loading the json file as python byte element\n",
    "except:\n",
    "    js = None\n",
    "\n",
    "if not js or 'status' not in js or js['status'] != 'OK':    # If the retrieving is unsuccessful\n",
    "    print('***Failed To Retrieve***')\n",
    "    print(url_data)\n",
    "    \n",
    "place_id = js['results'][0]['place_id']    # In the js dict, using the key 'results' to go into the reults list\n",
    "# From the results list going into the first element which is again a dictionary with all data\n",
    "# Using the key 'place_id' to get the output\n",
    "print(\"Place ID of the entered University is :\", place_id)"
   ]
  },
  {
   "cell_type": "code",
   "execution_count": null,
   "id": "0cfec828",
   "metadata": {},
   "outputs": [],
   "source": []
  }
 ],
 "metadata": {
  "kernelspec": {
   "display_name": "Python 3 (ipykernel)",
   "language": "python",
   "name": "python3"
  },
  "language_info": {
   "codemirror_mode": {
    "name": "ipython",
    "version": 3
   },
   "file_extension": ".py",
   "mimetype": "text/x-python",
   "name": "python",
   "nbconvert_exporter": "python",
   "pygments_lexer": "ipython3",
   "version": "3.11.5"
  }
 },
 "nbformat": 4,
 "nbformat_minor": 5
}
