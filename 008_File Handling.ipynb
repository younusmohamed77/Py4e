{
 "cells": [
  {
   "cell_type": "markdown",
   "id": "3bd28dc0",
   "metadata": {},
   "source": [
    "#### 7.2 Write a program that prompts for a file name, then opens that file and reads through the file, looking for lines of the form:\n",
    "X-DSPAM-Confidence:    0.8475\n",
    "\n",
    "#### Count these lines and extract the floating point values from each of the lines and compute the average of those values and produce an output as shown below. Do not use the sum() function or a variable named sum in your solution.\n",
    "You can download the sample data at http://www.py4e.com/code3/mbox-short.txt when you are testing below enter mbox-short.txt as the file name."
   ]
  },
  {
   "cell_type": "code",
   "execution_count": 18,
   "id": "84f784e3",
   "metadata": {},
   "outputs": [
    {
     "name": "stdout",
     "output_type": "stream",
     "text": [
      "Enter file name: 008_mbox-short.txt\n",
      "Average spam confidence: 0.7507185185185187\n"
     ]
    }
   ],
   "source": [
    "# Use the file name mbox-short.txt as the file name\n",
    "fname = input(\"Enter file name: \")\n",
    "fh = open(fname).readlines()\n",
    "spam_con_list = []\n",
    "\n",
    "for line in fh:\n",
    "\n",
    "    if line.startswith(\"X-DSPAM-Confidence:\"):\n",
    "        pos_0 = line.find('0')\n",
    "        line_spam_con = float(line[pos_0:pos_0+6])\n",
    "        spam_con_list.append(line_spam_con)\n",
    "        \n",
    "total_con = 0\n",
    "\n",
    "for i in spam_con_list:\n",
    "    total_con += i\n",
    "    \n",
    "print(\"Average spam confidence:\",total_con/len(spam_con_list))"
   ]
  },
  {
   "cell_type": "code",
   "execution_count": null,
   "id": "5ab580f4",
   "metadata": {},
   "outputs": [],
   "source": []
  }
 ],
 "metadata": {
  "kernelspec": {
   "display_name": "Python 3 (ipykernel)",
   "language": "python",
   "name": "python3"
  },
  "language_info": {
   "codemirror_mode": {
    "name": "ipython",
    "version": 3
   },
   "file_extension": ".py",
   "mimetype": "text/x-python",
   "name": "python",
   "nbconvert_exporter": "python",
   "pygments_lexer": "ipython3",
   "version": "3.8.18"
  }
 },
 "nbformat": 4,
 "nbformat_minor": 5
}
