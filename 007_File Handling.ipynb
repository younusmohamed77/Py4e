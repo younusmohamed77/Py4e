{
 "cells": [
  {
   "cell_type": "markdown",
   "id": "a2c61304",
   "metadata": {},
   "source": [
    "#### 7.1 Write a program that prompts for a file name, then opens that file and reads through the file, and print the contents of the file in upper case. Use the file words.txt to produce the output below.\n",
    "#### You can download the sample data at http://www.py4e.com/code3/words.txt"
   ]
  },
  {
   "cell_type": "code",
   "execution_count": 25,
   "id": "cefdecbb",
   "metadata": {},
   "outputs": [
    {
     "name": "stdout",
     "output_type": "stream",
     "text": [
      "Enter file name: 007_words.txt\n",
      "['Writing programs or programming is a very creative', 'and rewarding activity  You can write programs for', 'many reasons ranging from making your living to solving', 'a difficult data analysis problem to having fun to helping', 'someone else solve a problem  This book assumes that', '{\\\\em everyone} needs to know how to program and that once', 'you know how to program, you will figure out what you want', 'to do with your newfound skills', '', 'We are surrounded in our daily lives with computers ranging', 'from laptops to cell phones  We can think of these computers', 'as our personal assistants who can take care of many things', 'on our behalf  The hardware in our current-day computers', 'is essentially built to continuously ask us the question', 'What would you like me to do next', '', 'Our computers are fast and have vasts amounts of memory and ', 'could be very helpful to us if we only knew the language to ', 'speak to explain to the computer what we would like it to ', 'do next If we knew this language we could tell the ', 'computer to do tasks on our behalf that were reptitive  ', 'Interestingly, the kinds of things computers can do best', 'are often the kinds of things that we humans find boring', 'and mind-numbing']\n"
     ]
    }
   ],
   "source": [
    "# Use words.txt as the file name\n",
    "\n",
    "fname = input(\"Enter file name: \")\n",
    "fh = open(fname)\n",
    "file_text = fh.read()\n",
    "lines_list = list(file_text.splitlines())\n",
    "print(lines_list)"
   ]
  },
  {
   "cell_type": "code",
   "execution_count": 20,
   "id": "7c19a597",
   "metadata": {},
   "outputs": [
    {
     "name": "stdout",
     "output_type": "stream",
     "text": [
      "['Writing', 'programs', 'or', 'programming', 'is', 'a', 'very', 'creative', 'and', 'rewarding', 'activity', 'You', 'can', 'write', 'programs', 'for', 'many', 'reasons', 'ranging', 'from', 'making', 'your', 'living', 'to', 'solving', 'a', 'difficult', 'data', 'analysis', 'problem', 'to', 'having', 'fun', 'to', 'helping', 'someone', 'else', 'solve', 'a', 'problem', 'This', 'book', 'assumes', 'that', '{\\\\em', 'everyone}', 'needs', 'to', 'know', 'how', 'to', 'program', 'and', 'that', 'once', 'you', 'know', 'how', 'to', 'program,', 'you', 'will', 'figure', 'out', 'what', 'you', 'want', 'to', 'do', 'with', 'your', 'newfound', 'skills', 'We', 'are', 'surrounded', 'in', 'our', 'daily', 'lives', 'with', 'computers', 'ranging', 'from', 'laptops', 'to', 'cell', 'phones', 'We', 'can', 'think', 'of', 'these', 'computers', 'as', 'our', 'personal', 'assistants', 'who', 'can', 'take', 'care', 'of', 'many', 'things', 'on', 'our', 'behalf', 'The', 'hardware', 'in', 'our', 'current-day', 'computers', 'is', 'essentially', 'built', 'to', 'continuously', 'ask', 'us', 'the', 'question', 'What', 'would', 'you', 'like', 'me', 'to', 'do', 'next', 'Our', 'computers', 'are', 'fast', 'and', 'have', 'vasts', 'amounts', 'of', 'memory', 'and', 'could', 'be', 'very', 'helpful', 'to', 'us', 'if', 'we', 'only', 'knew', 'the', 'language', 'to', 'speak', 'to', 'explain', 'to', 'the', 'computer', 'what', 'we', 'would', 'like', 'it', 'to', 'do', 'next', 'If', 'we', 'knew', 'this', 'language', 'we', 'could', 'tell', 'the', 'computer', 'to', 'do', 'tasks', 'on', 'our', 'behalf', 'that', 'were', 'reptitive', 'Interestingly,', 'the', 'kinds', 'of', 'things', 'computers', 'can', 'do', 'best', 'are', 'often', 'the', 'kinds', 'of', 'things', 'that', 'we', 'humans', 'find', 'boring', 'and', 'mind-numbing']\n"
     ]
    }
   ],
   "source": [
    "words_list = list(file_text.split())\n",
    "print(words_list)"
   ]
  },
  {
   "cell_type": "code",
   "execution_count": 21,
   "id": "ffea5ca8",
   "metadata": {},
   "outputs": [
    {
     "name": "stdout",
     "output_type": "stream",
     "text": [
      "['WRITING', 'PROGRAMS', 'OR', 'PROGRAMMING', 'IS', 'A', 'VERY', 'CREATIVE', 'AND', 'REWARDING', 'ACTIVITY', 'YOU', 'CAN', 'WRITE', 'PROGRAMS', 'FOR', 'MANY', 'REASONS', 'RANGING', 'FROM', 'MAKING', 'YOUR', 'LIVING', 'TO', 'SOLVING', 'A', 'DIFFICULT', 'DATA', 'ANALYSIS', 'PROBLEM', 'TO', 'HAVING', 'FUN', 'TO', 'HELPING', 'SOMEONE', 'ELSE', 'SOLVE', 'A', 'PROBLEM', 'THIS', 'BOOK', 'ASSUMES', 'THAT', '{\\\\EM', 'EVERYONE}', 'NEEDS', 'TO', 'KNOW', 'HOW', 'TO', 'PROGRAM', 'AND', 'THAT', 'ONCE', 'YOU', 'KNOW', 'HOW', 'TO', 'PROGRAM,', 'YOU', 'WILL', 'FIGURE', 'OUT', 'WHAT', 'YOU', 'WANT', 'TO', 'DO', 'WITH', 'YOUR', 'NEWFOUND', 'SKILLS', 'WE', 'ARE', 'SURROUNDED', 'IN', 'OUR', 'DAILY', 'LIVES', 'WITH', 'COMPUTERS', 'RANGING', 'FROM', 'LAPTOPS', 'TO', 'CELL', 'PHONES', 'WE', 'CAN', 'THINK', 'OF', 'THESE', 'COMPUTERS', 'AS', 'OUR', 'PERSONAL', 'ASSISTANTS', 'WHO', 'CAN', 'TAKE', 'CARE', 'OF', 'MANY', 'THINGS', 'ON', 'OUR', 'BEHALF', 'THE', 'HARDWARE', 'IN', 'OUR', 'CURRENT-DAY', 'COMPUTERS', 'IS', 'ESSENTIALLY', 'BUILT', 'TO', 'CONTINUOUSLY', 'ASK', 'US', 'THE', 'QUESTION', 'WHAT', 'WOULD', 'YOU', 'LIKE', 'ME', 'TO', 'DO', 'NEXT', 'OUR', 'COMPUTERS', 'ARE', 'FAST', 'AND', 'HAVE', 'VASTS', 'AMOUNTS', 'OF', 'MEMORY', 'AND', 'COULD', 'BE', 'VERY', 'HELPFUL', 'TO', 'US', 'IF', 'WE', 'ONLY', 'KNEW', 'THE', 'LANGUAGE', 'TO', 'SPEAK', 'TO', 'EXPLAIN', 'TO', 'THE', 'COMPUTER', 'WHAT', 'WE', 'WOULD', 'LIKE', 'IT', 'TO', 'DO', 'NEXT', 'IF', 'WE', 'KNEW', 'THIS', 'LANGUAGE', 'WE', 'COULD', 'TELL', 'THE', 'COMPUTER', 'TO', 'DO', 'TASKS', 'ON', 'OUR', 'BEHALF', 'THAT', 'WERE', 'REPTITIVE', 'INTERESTINGLY,', 'THE', 'KINDS', 'OF', 'THINGS', 'COMPUTERS', 'CAN', 'DO', 'BEST', 'ARE', 'OFTEN', 'THE', 'KINDS', 'OF', 'THINGS', 'THAT', 'WE', 'HUMANS', 'FIND', 'BORING', 'AND', 'MIND-NUMBING']\n"
     ]
    }
   ],
   "source": [
    "words_list_cap = list(file_text.upper().split())\n",
    "print(words_list_cap)"
   ]
  },
  {
   "cell_type": "code",
   "execution_count": 22,
   "id": "b727ae33",
   "metadata": {},
   "outputs": [
    {
     "name": "stdout",
     "output_type": "stream",
     "text": [
      "WRITING PROGRAMS OR PROGRAMMING IS A VERY CREATIVE AND REWARDING ACTIVITY YOU CAN WRITE PROGRAMS FOR MANY REASONS RANGING FROM MAKING YOUR LIVING TO SOLVING A DIFFICULT DATA ANALYSIS PROBLEM TO HAVING FUN TO HELPING SOMEONE ELSE SOLVE A PROBLEM THIS BOOK ASSUMES THAT {\\EM EVERYONE} NEEDS TO KNOW HOW TO PROGRAM AND THAT ONCE YOU KNOW HOW TO PROGRAM, YOU WILL FIGURE OUT WHAT YOU WANT TO DO WITH YOUR NEWFOUND SKILLS WE ARE SURROUNDED IN OUR DAILY LIVES WITH COMPUTERS RANGING FROM LAPTOPS TO CELL PHONES WE CAN THINK OF THESE COMPUTERS AS OUR PERSONAL ASSISTANTS WHO CAN TAKE CARE OF MANY THINGS ON OUR BEHALF THE HARDWARE IN OUR CURRENT-DAY COMPUTERS IS ESSENTIALLY BUILT TO CONTINUOUSLY ASK US THE QUESTION WHAT WOULD YOU LIKE ME TO DO NEXT OUR COMPUTERS ARE FAST AND HAVE VASTS AMOUNTS OF MEMORY AND COULD BE VERY HELPFUL TO US IF WE ONLY KNEW THE LANGUAGE TO SPEAK TO EXPLAIN TO THE COMPUTER WHAT WE WOULD LIKE IT TO DO NEXT IF WE KNEW THIS LANGUAGE WE COULD TELL THE COMPUTER TO DO TASKS ON OUR BEHALF THAT WERE REPTITIVE INTERESTINGLY, THE KINDS OF THINGS COMPUTERS CAN DO BEST ARE OFTEN THE KINDS OF THINGS THAT WE HUMANS FIND BORING AND MIND-NUMBING\n"
     ]
    }
   ],
   "source": [
    "print(' '.join(words_list_cap))"
   ]
  },
  {
   "cell_type": "code",
   "execution_count": 29,
   "id": "930f4dbe",
   "metadata": {},
   "outputs": [
    {
     "name": "stdout",
     "output_type": "stream",
     "text": [
      "WRITING PROGRAMS OR PROGRAMMING IS A VERY CREATIVE\n",
      "AND REWARDING ACTIVITY  YOU CAN WRITE PROGRAMS FOR\n",
      "MANY REASONS RANGING FROM MAKING YOUR LIVING TO SOLVING\n",
      "A DIFFICULT DATA ANALYSIS PROBLEM TO HAVING FUN TO HELPING\n",
      "SOMEONE ELSE SOLVE A PROBLEM  THIS BOOK ASSUMES THAT\n",
      "{\\EM EVERYONE} NEEDS TO KNOW HOW TO PROGRAM AND THAT ONCE\n",
      "YOU KNOW HOW TO PROGRAM, YOU WILL FIGURE OUT WHAT YOU WANT\n",
      "TO DO WITH YOUR NEWFOUND SKILLS\n",
      "\n",
      "WE ARE SURROUNDED IN OUR DAILY LIVES WITH COMPUTERS RANGING\n",
      "FROM LAPTOPS TO CELL PHONES  WE CAN THINK OF THESE COMPUTERS\n",
      "AS OUR PERSONAL ASSISTANTS WHO CAN TAKE CARE OF MANY THINGS\n",
      "ON OUR BEHALF  THE HARDWARE IN OUR CURRENT-DAY COMPUTERS\n",
      "IS ESSENTIALLY BUILT TO CONTINUOUSLY ASK US THE QUESTION\n",
      "WHAT WOULD YOU LIKE ME TO DO NEXT\n",
      "\n",
      "OUR COMPUTERS ARE FAST AND HAVE VASTS AMOUNTS OF MEMORY AND\n",
      "COULD BE VERY HELPFUL TO US IF WE ONLY KNEW THE LANGUAGE TO\n",
      "SPEAK TO EXPLAIN TO THE COMPUTER WHAT WE WOULD LIKE IT TO\n",
      "DO NEXT IF WE KNEW THIS LANGUAGE WE COULD TELL THE\n",
      "COMPUTER TO DO TASKS ON OUR BEHALF THAT WERE REPTITIVE\n",
      "INTERESTINGLY, THE KINDS OF THINGS COMPUTERS CAN DO BEST\n",
      "ARE OFTEN THE KINDS OF THINGS THAT WE HUMANS FIND BORING\n",
      "AND MIND-NUMBING\n"
     ]
    }
   ],
   "source": [
    "for line in lines_list:\n",
    "    print(line.upper().rstrip())"
   ]
  },
  {
   "cell_type": "code",
   "execution_count": null,
   "id": "0960f5f1",
   "metadata": {},
   "outputs": [],
   "source": []
  }
 ],
 "metadata": {
  "kernelspec": {
   "display_name": "Python 3 (ipykernel)",
   "language": "python",
   "name": "python3"
  },
  "language_info": {
   "codemirror_mode": {
    "name": "ipython",
    "version": 3
   },
   "file_extension": ".py",
   "mimetype": "text/x-python",
   "name": "python",
   "nbconvert_exporter": "python",
   "pygments_lexer": "ipython3",
   "version": "3.8.18"
  }
 },
 "nbformat": 4,
 "nbformat_minor": 5
}
